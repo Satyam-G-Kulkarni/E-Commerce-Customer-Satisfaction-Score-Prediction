{
  "nbformat": 4,
  "nbformat_minor": 0,
  "metadata": {
    "colab": {
      "provenance": [],
      "collapsed_sections": [
        "FJNUwmbgGyua",
        "w6K7xa23Elo4",
        "yQaldy8SH6Dl",
        "mDgbUHAGgjLW",
        "3RnN4peoiCZX",
        "7hBIi_osiCS2",
        "JlHwYmJAmNHm",
        "H0kj-8xxnORC",
        "nA9Y7ga8ng1Z",
        "dauF4eBmngu3",
        "MSa1f5Uengrz",
        "0wOQAZs5pc--",
        "K5QZ13OEpz2H",
        "lQ7QKXXCp7Bj",
        "448CDAPjqfQr",
        "KSlN3yHqYklG",
        "t6dVpIINYklI",
        "ijmpgYnKYklI",
        "-JiQyfWJYklI",
        "EM7whBJCYoAo",
        "fge-S5ZAYoAp",
        "85gYPyotYoAp",
        "RoGjAbkUYoAp",
        "4Of9eVA-YrdM",
        "iky9q4vBYrdO",
        "F6T5p64dYrdO",
        "y-Ehk30pYrdP",
        "bamQiAODYuh1",
        "QHF8YVU7Yuh3",
        "GwzvFGzlYuh3",
        "qYpmQ266Yuh3",
        "OH-pJp9IphqM",
        "bbFf2-_FphqN",
        "_ouA3fa0phqN",
        "Seke61FWphqN",
        "PIIx-8_IphqN",
        "t27r6nlMphqO",
        "r2jJGEOYphqO",
        "b0JNsNcRphqO",
        "BZR9WyysphqO",
        "jj7wYXLtphqO",
        "eZrbJ2SmphqO",
        "rFu4xreNphqO",
        "YJ55k-q6phqO",
        "gCFgpxoyphqP",
        "OVtJsKN_phqQ",
        "NC_X3p0fY2L0",
        "UV0SzAkaZNRQ",
        "YPEH6qLeZNRQ",
        "q29F0dvdveiT",
        "g-ATYxFrGrvw",
        "Yfr_Vlr8HBkt",
        "Ou-I18pAyIpj",
        "fF3858GYyt-u",
        "dEUvejAfpUZe",
        "Fd15vwWVpUZf",
        "pEMng2IbBLp7",
        "rAdphbQ9Bhjc",
        "h_CCil-SKHpo",
        "cBFFvTBNJzUa",
        "HvGl1hHyA_VK",
        "gIfDvo9L0UH2"
      ]
    },
    "kernelspec": {
      "name": "python3",
      "display_name": "Python 3"
    },
    "language_info": {
      "name": "python"
    }
  },
  "cells": [
    {
      "cell_type": "markdown",
      "source": [
        "# **Project Name**    -  E-Commerce Customer Satisfaction Score Prediction\n",
        "\n"
      ],
      "metadata": {
        "id": "vncDsAP0Gaoa"
      }
    },
    {
      "cell_type": "markdown",
      "source": [
        "##### **Project Type**    - Ordinal Classification\n",
        "##### **Contribution**    - Individual"
      ],
      "metadata": {
        "id": "beRrZCGUAJYm"
      }
    },
    {
      "cell_type": "markdown",
      "source": [
        "# **Project Summary -**"
      ],
      "metadata": {
        "id": "FJNUwmbgGyua"
      }
    },
    {
      "cell_type": "markdown",
      "source": [
        "This project revolves around delving into customer satisfaction (CSAT) data through a range of machine learning methodologies. The dataset encompasses a multitude of features pertinent to customer interactions, spanning from channel names and categories to tenure buckets, agent shifts, and CSAT scores. Initially, I meticulously preprocess the data, addressing missing values, eliminating irrelevant columns, and adjusting data types as needed.\n",
        "\n",
        "Following this preparatory phase, I embark on an exploratory data analysis (EDA) journey to extract valuable insights into feature distributions and correlations. Leveraging an arsenal of visual aids like histograms, box plots, and correlation heatmaps, I navigate through the data landscape to unearth patterns and relationships.\n",
        "\n",
        "Transitioning to the modeling phase, I deploy a diverse set of machine learning algorithms tailored for classification tasks. This includes the implementation of Decision Tree and Artificial Neural Network (ANN) classifiers. Throughout the classification process, I rigorously evaluate model performance, employing metrics such as accuracy, precision, recall, and F1-score, alongside comprehensive classification reports. Additionally, I fine-tune model parameters using advanced techniques like grid search or random search, particularly optimizing models like random forest classification.\n",
        "\n",
        "Subsequent evaluations of model performance are conducted using an array of appropriate metrics to ascertain predictive accuracy and generalization capabilities. Drawing upon the insights gleaned from model performance and analysis outcomes, I formulate actionable recommendations aimed at amplifying customer satisfaction. These recommendations may encompass strategies for refining service channels, enhancing issue resolution mechanisms, or bolstering agent training protocols. Moreover, I identify avenues for further optimization, which may involve feature engineering, data balancing techniques, or model refinement strategies, all geared towards elevating the overall customer experience and satisfaction levels."
      ],
      "metadata": {
        "id": "F6v_1wHtG2nS"
      }
    },
    {
      "cell_type": "markdown",
      "source": [
        "# **GitHub Link -**"
      ],
      "metadata": {
        "id": "w6K7xa23Elo4"
      }
    },
    {
      "cell_type": "markdown",
      "source": [
        "https://github.com/Satyam-G-Kulkarni/E-Commerce-Customer-Satisfaction-Score-Prediction"
      ],
      "metadata": {
        "id": "h1o69JH3Eqqn"
      }
    },
    {
      "cell_type": "markdown",
      "source": [
        "# **Problem Statement**\n"
      ],
      "metadata": {
        "id": "yQaldy8SH6Dl"
      }
    },
    {
      "cell_type": "markdown",
      "source": [
        "To develop a deep learning model that accurately predicts Customer Satisfaction (CSAT) scores based on customer interactions and feedback in an e-commerce context. This project seeks to enable real-time monitoring and enhancement of service quality and customer loyalty by leveraging advanced neural network models to forecast CSAT scores from a variety of interaction-related features.\n",
        "\n",
        "**Objectives**\n",
        "\n",
        "**Data Preparation:** Clean and preprocess the dataset to ensure its suitability for training a deep learning model.\n",
        "\n",
        "**Feature Engineering:** Identify and engineer the most predictive features from the dataset that influence CSAT scores.\n",
        "\n",
        "**Model Development:** Design and train a deep learning Artificial Neural Network (ANN) model capable of predicting CSAT scores accurately.\n",
        "\n",
        "**Evaluation:** Evaluate the model's performance using appropriate metrics and validate its predictive accuracy.\n",
        "\n",
        "**Insight Generation:** Analyze the model's predictions to uncover trends, patterns, and actionable insights for service improvement.\n",
        "\n",
        "**Deployment:** Implement the model in a real-world setting to provide ongoing predictions and insights into customer satisfaction."
      ],
      "metadata": {
        "id": "DpeJGUA3kjGy"
      }
    },
    {
      "cell_type": "markdown",
      "source": [
        "# **General Guidelines** : -  "
      ],
      "metadata": {
        "id": "mDgbUHAGgjLW"
      }
    },
    {
      "cell_type": "markdown",
      "source": [
        "1.   Well-structured, formatted, and commented code is required.\n",
        "2.   Exception Handling, Production Grade Code & Deployment Ready Code will be a plus. Those students will be awarded some additional credits.\n",
        "     \n",
        "     The additional credits will have advantages over other students during Star Student selection.\n",
        "       \n",
        "             [ Note: - Deployment Ready Code is defined as, the whole .ipynb notebook should be executable in one go\n",
        "                       without a single error logged. ]\n",
        "\n",
        "3.   Each and every logic should have proper comments.\n",
        "4. You may add as many number of charts you want. Make Sure for each and every chart the following format should be answered.\n",
        "        \n",
        "\n",
        "```\n",
        "# Chart visualization code\n",
        "```\n",
        "            \n",
        "\n",
        "*   Why did you pick the specific chart?\n",
        "*   What is/are the insight(s) found from the chart?\n",
        "* Will the gained insights help creating a positive business impact?\n",
        "Are there any insights that lead to negative growth? Justify with specific reason.\n",
        "\n",
        "5. You have to create at least 15 logical & meaningful charts having important insights.\n",
        "\n",
        "\n",
        "[ Hints : - Do the Vizualization in  a structured way while following \"UBM\" Rule.\n",
        "\n",
        "U - Univariate Analysis,\n",
        "\n",
        "B - Bivariate Analysis (Numerical - Categorical, Numerical - Numerical, Categorical - Categorical)\n",
        "\n",
        "M - Multivariate Analysis\n",
        " ]\n",
        "\n",
        "\n",
        "\n",
        "\n",
        "\n",
        "6. You may add more ml algorithms for model creation. Make sure for each and every algorithm, the following format should be answered.\n",
        "\n",
        "\n",
        "*   Explain the ML Model used and it's performance using Evaluation metric Score Chart.\n",
        "\n",
        "\n",
        "*   Cross- Validation & Hyperparameter Tuning\n",
        "\n",
        "*   Have you seen any improvement? Note down the improvement with updates Evaluation metric Score Chart.\n",
        "\n",
        "*   Explain each evaluation metric's indication towards business and the business impact pf the ML model used.\n",
        "\n",
        "\n",
        "\n",
        "\n",
        "\n",
        "\n",
        "\n",
        "\n",
        "\n",
        "\n",
        "\n",
        "\n",
        "\n",
        "\n",
        "\n",
        "\n",
        "\n",
        "\n"
      ],
      "metadata": {
        "id": "ZrxVaUj-hHfC"
      }
    },
    {
      "cell_type": "markdown",
      "source": [
        "# ***Let's Begin !***"
      ],
      "metadata": {
        "id": "O_i_v8NEhb9l"
      }
    },
    {
      "cell_type": "markdown",
      "source": [
        "## ***1. Know Your Data***"
      ],
      "metadata": {
        "id": "HhfV-JJviCcP"
      }
    },
    {
      "cell_type": "markdown",
      "source": [
        "### Import Libraries"
      ],
      "metadata": {
        "id": "Y3lxredqlCYt"
      }
    },
    {
      "cell_type": "code",
      "source": [
        "!pip install tensorflow"
      ],
      "metadata": {
        "id": "rzrXJNbueUzb",
        "colab": {
          "base_uri": "https://localhost:8080/"
        },
        "outputId": "ea3277a4-0a2f-47fe-bd0e-dc723f6ad96f"
      },
      "execution_count": null,
      "outputs": [
        {
          "output_type": "stream",
          "name": "stdout",
          "text": [
            "Requirement already satisfied: tensorflow in /usr/local/lib/python3.10/dist-packages (2.16.1)\n",
            "Requirement already satisfied: absl-py>=1.0.0 in /usr/local/lib/python3.10/dist-packages (from tensorflow) (1.4.0)\n",
            "Requirement already satisfied: astunparse>=1.6.0 in /usr/local/lib/python3.10/dist-packages (from tensorflow) (1.6.3)\n",
            "Requirement already satisfied: flatbuffers>=23.5.26 in /usr/local/lib/python3.10/dist-packages (from tensorflow) (24.3.25)\n",
            "Requirement already satisfied: gast!=0.5.0,!=0.5.1,!=0.5.2,>=0.2.1 in /usr/local/lib/python3.10/dist-packages (from tensorflow) (0.5.4)\n",
            "Requirement already satisfied: google-pasta>=0.1.1 in /usr/local/lib/python3.10/dist-packages (from tensorflow) (0.2.0)\n",
            "Requirement already satisfied: h5py>=3.10.0 in /usr/local/lib/python3.10/dist-packages (from tensorflow) (3.11.0)\n",
            "Requirement already satisfied: libclang>=13.0.0 in /usr/local/lib/python3.10/dist-packages (from tensorflow) (18.1.1)\n",
            "Requirement already satisfied: ml-dtypes~=0.3.1 in /usr/local/lib/python3.10/dist-packages (from tensorflow) (0.3.2)\n",
            "Requirement already satisfied: opt-einsum>=2.3.2 in /usr/local/lib/python3.10/dist-packages (from tensorflow) (3.3.0)\n",
            "Requirement already satisfied: packaging in /usr/local/lib/python3.10/dist-packages (from tensorflow) (24.0)\n",
            "Requirement already satisfied: protobuf!=4.21.0,!=4.21.1,!=4.21.2,!=4.21.3,!=4.21.4,!=4.21.5,<5.0.0dev,>=3.20.3 in /usr/local/lib/python3.10/dist-packages (from tensorflow) (3.20.3)\n",
            "Requirement already satisfied: requests<3,>=2.21.0 in /usr/local/lib/python3.10/dist-packages (from tensorflow) (2.31.0)\n",
            "Requirement already satisfied: setuptools in /usr/local/lib/python3.10/dist-packages (from tensorflow) (67.7.2)\n",
            "Requirement already satisfied: six>=1.12.0 in /usr/local/lib/python3.10/dist-packages (from tensorflow) (1.16.0)\n",
            "Requirement already satisfied: termcolor>=1.1.0 in /usr/local/lib/python3.10/dist-packages (from tensorflow) (2.4.0)\n",
            "Requirement already satisfied: typing-extensions>=3.6.6 in /usr/local/lib/python3.10/dist-packages (from tensorflow) (4.11.0)\n",
            "Requirement already satisfied: wrapt>=1.11.0 in /usr/local/lib/python3.10/dist-packages (from tensorflow) (1.14.1)\n",
            "Requirement already satisfied: grpcio<2.0,>=1.24.3 in /usr/local/lib/python3.10/dist-packages (from tensorflow) (1.64.0)\n",
            "Requirement already satisfied: tensorboard<2.17,>=2.16 in /usr/local/lib/python3.10/dist-packages (from tensorflow) (2.16.2)\n",
            "Requirement already satisfied: keras>=3.0.0 in /usr/local/lib/python3.10/dist-packages (from tensorflow) (3.3.3)\n",
            "Requirement already satisfied: tensorflow-io-gcs-filesystem>=0.23.1 in /usr/local/lib/python3.10/dist-packages (from tensorflow) (0.37.0)\n",
            "Requirement already satisfied: numpy<2.0.0,>=1.23.5 in /usr/local/lib/python3.10/dist-packages (from tensorflow) (1.25.2)\n",
            "Requirement already satisfied: wheel<1.0,>=0.23.0 in /usr/local/lib/python3.10/dist-packages (from astunparse>=1.6.0->tensorflow) (0.43.0)\n",
            "Requirement already satisfied: rich in /usr/local/lib/python3.10/dist-packages (from keras>=3.0.0->tensorflow) (13.7.1)\n",
            "Requirement already satisfied: namex in /usr/local/lib/python3.10/dist-packages (from keras>=3.0.0->tensorflow) (0.0.8)\n",
            "Requirement already satisfied: optree in /usr/local/lib/python3.10/dist-packages (from keras>=3.0.0->tensorflow) (0.11.0)\n",
            "Requirement already satisfied: charset-normalizer<4,>=2 in /usr/local/lib/python3.10/dist-packages (from requests<3,>=2.21.0->tensorflow) (3.3.2)\n",
            "Requirement already satisfied: idna<4,>=2.5 in /usr/local/lib/python3.10/dist-packages (from requests<3,>=2.21.0->tensorflow) (3.7)\n",
            "Requirement already satisfied: urllib3<3,>=1.21.1 in /usr/local/lib/python3.10/dist-packages (from requests<3,>=2.21.0->tensorflow) (2.0.7)\n",
            "Requirement already satisfied: certifi>=2017.4.17 in /usr/local/lib/python3.10/dist-packages (from requests<3,>=2.21.0->tensorflow) (2024.2.2)\n",
            "Requirement already satisfied: markdown>=2.6.8 in /usr/local/lib/python3.10/dist-packages (from tensorboard<2.17,>=2.16->tensorflow) (3.6)\n",
            "Requirement already satisfied: tensorboard-data-server<0.8.0,>=0.7.0 in /usr/local/lib/python3.10/dist-packages (from tensorboard<2.17,>=2.16->tensorflow) (0.7.2)\n",
            "Requirement already satisfied: werkzeug>=1.0.1 in /usr/local/lib/python3.10/dist-packages (from tensorboard<2.17,>=2.16->tensorflow) (3.0.3)\n",
            "Requirement already satisfied: MarkupSafe>=2.1.1 in /usr/local/lib/python3.10/dist-packages (from werkzeug>=1.0.1->tensorboard<2.17,>=2.16->tensorflow) (2.1.5)\n",
            "Requirement already satisfied: markdown-it-py>=2.2.0 in /usr/local/lib/python3.10/dist-packages (from rich->keras>=3.0.0->tensorflow) (3.0.0)\n",
            "Requirement already satisfied: pygments<3.0.0,>=2.13.0 in /usr/local/lib/python3.10/dist-packages (from rich->keras>=3.0.0->tensorflow) (2.16.1)\n",
            "Requirement already satisfied: mdurl~=0.1 in /usr/local/lib/python3.10/dist-packages (from markdown-it-py>=2.2.0->rich->keras>=3.0.0->tensorflow) (0.1.2)\n"
          ]
        }
      ]
    },
    {
      "cell_type": "code",
      "source": [
        "# Import Libraries\n",
        "import numpy as np\n",
        "import pandas as pd\n",
        "from numpy import math\n",
        "from numpy import loadtxt\n",
        "import seaborn as sns\n",
        "import matplotlib.pyplot as plt\n",
        "%matplotlib inline\n",
        "from matplotlib import rcParams\n",
        "import warnings\n",
        "warnings.filterwarnings('ignore')\n",
        "from sklearn.model_selection import train_test_split\n",
        "from sklearn.preprocessing import OneHotEncoder\n",
        "from tensorflow.keras.models import Sequential\n",
        "from tensorflow.keras.layers import Dense\n",
        "from tensorflow.keras.optimizers import Adam\n",
        "from sklearn.tree import DecisionTreeClassifier\n",
        "from sklearn.metrics import accuracy_score, classification_report"
      ],
      "metadata": {
        "id": "M8Vqi-pPk-HR",
        "colab": {
          "base_uri": "https://localhost:8080/"
        },
        "outputId": "81227216-fa9c-4559-d188-0229034b6161"
      },
      "execution_count": null,
      "outputs": [
        {
          "output_type": "stream",
          "name": "stderr",
          "text": [
            "<ipython-input-4-cebde045296b>:4: DeprecationWarning: `np.math` is a deprecated alias for the standard library `math` module (Deprecated Numpy 1.25). Replace usages of `np.math` with `math`\n",
            "  from numpy import math\n"
          ]
        }
      ]
    },
    {
      "cell_type": "markdown",
      "source": [
        "### Dataset Loading"
      ],
      "metadata": {
        "id": "3RnN4peoiCZX"
      }
    },
    {
      "cell_type": "code",
      "source": [
        "# Load Dataset\n",
        "url = 'https://raw.githubusercontent.com/Satyam-G-Kulkarni/E-Commerce-Customer-Satisfaction-Score-Prediction/main/eCommerce_Customer_support_data.csv'\n",
        "data = pd.read_csv(url)"
      ],
      "metadata": {
        "id": "4CkvbW_SlZ_R"
      },
      "execution_count": null,
      "outputs": []
    },
    {
      "cell_type": "markdown",
      "source": [
        "### Dataset First View"
      ],
      "metadata": {
        "id": "x71ZqKXriCWQ"
      }
    },
    {
      "cell_type": "code",
      "source": [
        "# Dataset First Look\n",
        "data.head()"
      ],
      "metadata": {
        "id": "LWNFOSvLl09H",
        "colab": {
          "base_uri": "https://localhost:8080/",
          "height": 504
        },
        "outputId": "841896d8-1d7a-410e-aafd-451f5dfa8a90"
      },
      "execution_count": null,
      "outputs": [
        {
          "output_type": "execute_result",
          "data": {
            "text/plain": [
              "                              Unique id channel_name         category  \\\n",
              "0  7e9ae164-6a8b-4521-a2d4-58f7c9fff13f      Outcall  Product Queries   \n",
              "1  b07ec1b0-f376-43b6-86df-ec03da3b2e16      Outcall  Product Queries   \n",
              "2  200814dd-27c7-4149-ba2b-bd3af3092880      Inbound    Order Related   \n",
              "3  eb0d3e53-c1ca-42d3-8486-e42c8d622135      Inbound          Returns   \n",
              "4  ba903143-1e54-406c-b969-46c52f92e5df      Inbound     Cancellation   \n",
              "\n",
              "                   Sub-category Customer Remarks  \\\n",
              "0                Life Insurance              NaN   \n",
              "1  Product Specific Information              NaN   \n",
              "2             Installation/demo              NaN   \n",
              "3        Reverse Pickup Enquiry              NaN   \n",
              "4                    Not Needed              NaN   \n",
              "\n",
              "                               Order_id order_date_time Issue_reported at  \\\n",
              "0  c27c9bb4-fa36-4140-9f1f-21009254ffdb             NaN  01/08/2023 11:13   \n",
              "1  d406b0c7-ce17-4654-b9de-f08d421254bd             NaN  01/08/2023 12:52   \n",
              "2  c273368d-b961-44cb-beaf-62d6fd6c00d5             NaN  01/08/2023 20:16   \n",
              "3  5aed0059-55a4-4ec6-bb54-97942092020a             NaN  01/08/2023 20:56   \n",
              "4  e8bed5a9-6933-4aff-9dc6-ccefd7dcde59             NaN  01/08/2023 10:30   \n",
              "\n",
              "    issue_responded Survey_response_Date Customer_City Product_category  \\\n",
              "0  01/08/2023 11:47            01-Aug-23           NaN              NaN   \n",
              "1  01/08/2023 12:54            01-Aug-23           NaN              NaN   \n",
              "2  01/08/2023 20:38            01-Aug-23           NaN              NaN   \n",
              "3  01/08/2023 21:16            01-Aug-23           NaN              NaN   \n",
              "4  01/08/2023 10:32            01-Aug-23           NaN              NaN   \n",
              "\n",
              "   Item_price  connected_handling_time           Agent_name      Supervisor  \\\n",
              "0         NaN                      NaN     Richard Buchanan     Mason Gupta   \n",
              "1         NaN                      NaN        Vicki Collins       Dylan Kim   \n",
              "2         NaN                      NaN         Duane Norman    Jackson Park   \n",
              "3         NaN                      NaN       Patrick Flores     Olivia Wang   \n",
              "4         NaN                      NaN  Christopher Sanchez  Austin Johnson   \n",
              "\n",
              "           Manager    Tenure Bucket Agent Shift  CSAT Score  \n",
              "0  Jennifer Nguyen  On Job Training     Morning           5  \n",
              "1      Michael Lee              >90     Morning           5  \n",
              "2      William Kim  On Job Training     Evening           5  \n",
              "3       John Smith              >90     Evening           5  \n",
              "4      Michael Lee             0-30     Morning           5  "
            ],
            "text/html": [
              "\n",
              "  <div id=\"df-f5782d6c-26c9-414a-bb68-5d5b9f5b659b\" class=\"colab-df-container\">\n",
              "    <div>\n",
              "<style scoped>\n",
              "    .dataframe tbody tr th:only-of-type {\n",
              "        vertical-align: middle;\n",
              "    }\n",
              "\n",
              "    .dataframe tbody tr th {\n",
              "        vertical-align: top;\n",
              "    }\n",
              "\n",
              "    .dataframe thead th {\n",
              "        text-align: right;\n",
              "    }\n",
              "</style>\n",
              "<table border=\"1\" class=\"dataframe\">\n",
              "  <thead>\n",
              "    <tr style=\"text-align: right;\">\n",
              "      <th></th>\n",
              "      <th>Unique id</th>\n",
              "      <th>channel_name</th>\n",
              "      <th>category</th>\n",
              "      <th>Sub-category</th>\n",
              "      <th>Customer Remarks</th>\n",
              "      <th>Order_id</th>\n",
              "      <th>order_date_time</th>\n",
              "      <th>Issue_reported at</th>\n",
              "      <th>issue_responded</th>\n",
              "      <th>Survey_response_Date</th>\n",
              "      <th>Customer_City</th>\n",
              "      <th>Product_category</th>\n",
              "      <th>Item_price</th>\n",
              "      <th>connected_handling_time</th>\n",
              "      <th>Agent_name</th>\n",
              "      <th>Supervisor</th>\n",
              "      <th>Manager</th>\n",
              "      <th>Tenure Bucket</th>\n",
              "      <th>Agent Shift</th>\n",
              "      <th>CSAT Score</th>\n",
              "    </tr>\n",
              "  </thead>\n",
              "  <tbody>\n",
              "    <tr>\n",
              "      <th>0</th>\n",
              "      <td>7e9ae164-6a8b-4521-a2d4-58f7c9fff13f</td>\n",
              "      <td>Outcall</td>\n",
              "      <td>Product Queries</td>\n",
              "      <td>Life Insurance</td>\n",
              "      <td>NaN</td>\n",
              "      <td>c27c9bb4-fa36-4140-9f1f-21009254ffdb</td>\n",
              "      <td>NaN</td>\n",
              "      <td>01/08/2023 11:13</td>\n",
              "      <td>01/08/2023 11:47</td>\n",
              "      <td>01-Aug-23</td>\n",
              "      <td>NaN</td>\n",
              "      <td>NaN</td>\n",
              "      <td>NaN</td>\n",
              "      <td>NaN</td>\n",
              "      <td>Richard Buchanan</td>\n",
              "      <td>Mason Gupta</td>\n",
              "      <td>Jennifer Nguyen</td>\n",
              "      <td>On Job Training</td>\n",
              "      <td>Morning</td>\n",
              "      <td>5</td>\n",
              "    </tr>\n",
              "    <tr>\n",
              "      <th>1</th>\n",
              "      <td>b07ec1b0-f376-43b6-86df-ec03da3b2e16</td>\n",
              "      <td>Outcall</td>\n",
              "      <td>Product Queries</td>\n",
              "      <td>Product Specific Information</td>\n",
              "      <td>NaN</td>\n",
              "      <td>d406b0c7-ce17-4654-b9de-f08d421254bd</td>\n",
              "      <td>NaN</td>\n",
              "      <td>01/08/2023 12:52</td>\n",
              "      <td>01/08/2023 12:54</td>\n",
              "      <td>01-Aug-23</td>\n",
              "      <td>NaN</td>\n",
              "      <td>NaN</td>\n",
              "      <td>NaN</td>\n",
              "      <td>NaN</td>\n",
              "      <td>Vicki Collins</td>\n",
              "      <td>Dylan Kim</td>\n",
              "      <td>Michael Lee</td>\n",
              "      <td>&gt;90</td>\n",
              "      <td>Morning</td>\n",
              "      <td>5</td>\n",
              "    </tr>\n",
              "    <tr>\n",
              "      <th>2</th>\n",
              "      <td>200814dd-27c7-4149-ba2b-bd3af3092880</td>\n",
              "      <td>Inbound</td>\n",
              "      <td>Order Related</td>\n",
              "      <td>Installation/demo</td>\n",
              "      <td>NaN</td>\n",
              "      <td>c273368d-b961-44cb-beaf-62d6fd6c00d5</td>\n",
              "      <td>NaN</td>\n",
              "      <td>01/08/2023 20:16</td>\n",
              "      <td>01/08/2023 20:38</td>\n",
              "      <td>01-Aug-23</td>\n",
              "      <td>NaN</td>\n",
              "      <td>NaN</td>\n",
              "      <td>NaN</td>\n",
              "      <td>NaN</td>\n",
              "      <td>Duane Norman</td>\n",
              "      <td>Jackson Park</td>\n",
              "      <td>William Kim</td>\n",
              "      <td>On Job Training</td>\n",
              "      <td>Evening</td>\n",
              "      <td>5</td>\n",
              "    </tr>\n",
              "    <tr>\n",
              "      <th>3</th>\n",
              "      <td>eb0d3e53-c1ca-42d3-8486-e42c8d622135</td>\n",
              "      <td>Inbound</td>\n",
              "      <td>Returns</td>\n",
              "      <td>Reverse Pickup Enquiry</td>\n",
              "      <td>NaN</td>\n",
              "      <td>5aed0059-55a4-4ec6-bb54-97942092020a</td>\n",
              "      <td>NaN</td>\n",
              "      <td>01/08/2023 20:56</td>\n",
              "      <td>01/08/2023 21:16</td>\n",
              "      <td>01-Aug-23</td>\n",
              "      <td>NaN</td>\n",
              "      <td>NaN</td>\n",
              "      <td>NaN</td>\n",
              "      <td>NaN</td>\n",
              "      <td>Patrick Flores</td>\n",
              "      <td>Olivia Wang</td>\n",
              "      <td>John Smith</td>\n",
              "      <td>&gt;90</td>\n",
              "      <td>Evening</td>\n",
              "      <td>5</td>\n",
              "    </tr>\n",
              "    <tr>\n",
              "      <th>4</th>\n",
              "      <td>ba903143-1e54-406c-b969-46c52f92e5df</td>\n",
              "      <td>Inbound</td>\n",
              "      <td>Cancellation</td>\n",
              "      <td>Not Needed</td>\n",
              "      <td>NaN</td>\n",
              "      <td>e8bed5a9-6933-4aff-9dc6-ccefd7dcde59</td>\n",
              "      <td>NaN</td>\n",
              "      <td>01/08/2023 10:30</td>\n",
              "      <td>01/08/2023 10:32</td>\n",
              "      <td>01-Aug-23</td>\n",
              "      <td>NaN</td>\n",
              "      <td>NaN</td>\n",
              "      <td>NaN</td>\n",
              "      <td>NaN</td>\n",
              "      <td>Christopher Sanchez</td>\n",
              "      <td>Austin Johnson</td>\n",
              "      <td>Michael Lee</td>\n",
              "      <td>0-30</td>\n",
              "      <td>Morning</td>\n",
              "      <td>5</td>\n",
              "    </tr>\n",
              "  </tbody>\n",
              "</table>\n",
              "</div>\n",
              "    <div class=\"colab-df-buttons\">\n",
              "\n",
              "  <div class=\"colab-df-container\">\n",
              "    <button class=\"colab-df-convert\" onclick=\"convertToInteractive('df-f5782d6c-26c9-414a-bb68-5d5b9f5b659b')\"\n",
              "            title=\"Convert this dataframe to an interactive table.\"\n",
              "            style=\"display:none;\">\n",
              "\n",
              "  <svg xmlns=\"http://www.w3.org/2000/svg\" height=\"24px\" viewBox=\"0 -960 960 960\">\n",
              "    <path d=\"M120-120v-720h720v720H120Zm60-500h600v-160H180v160Zm220 220h160v-160H400v160Zm0 220h160v-160H400v160ZM180-400h160v-160H180v160Zm440 0h160v-160H620v160ZM180-180h160v-160H180v160Zm440 0h160v-160H620v160Z\"/>\n",
              "  </svg>\n",
              "    </button>\n",
              "\n",
              "  <style>\n",
              "    .colab-df-container {\n",
              "      display:flex;\n",
              "      gap: 12px;\n",
              "    }\n",
              "\n",
              "    .colab-df-convert {\n",
              "      background-color: #E8F0FE;\n",
              "      border: none;\n",
              "      border-radius: 50%;\n",
              "      cursor: pointer;\n",
              "      display: none;\n",
              "      fill: #1967D2;\n",
              "      height: 32px;\n",
              "      padding: 0 0 0 0;\n",
              "      width: 32px;\n",
              "    }\n",
              "\n",
              "    .colab-df-convert:hover {\n",
              "      background-color: #E2EBFA;\n",
              "      box-shadow: 0px 1px 2px rgba(60, 64, 67, 0.3), 0px 1px 3px 1px rgba(60, 64, 67, 0.15);\n",
              "      fill: #174EA6;\n",
              "    }\n",
              "\n",
              "    .colab-df-buttons div {\n",
              "      margin-bottom: 4px;\n",
              "    }\n",
              "\n",
              "    [theme=dark] .colab-df-convert {\n",
              "      background-color: #3B4455;\n",
              "      fill: #D2E3FC;\n",
              "    }\n",
              "\n",
              "    [theme=dark] .colab-df-convert:hover {\n",
              "      background-color: #434B5C;\n",
              "      box-shadow: 0px 1px 3px 1px rgba(0, 0, 0, 0.15);\n",
              "      filter: drop-shadow(0px 1px 2px rgba(0, 0, 0, 0.3));\n",
              "      fill: #FFFFFF;\n",
              "    }\n",
              "  </style>\n",
              "\n",
              "    <script>\n",
              "      const buttonEl =\n",
              "        document.querySelector('#df-f5782d6c-26c9-414a-bb68-5d5b9f5b659b button.colab-df-convert');\n",
              "      buttonEl.style.display =\n",
              "        google.colab.kernel.accessAllowed ? 'block' : 'none';\n",
              "\n",
              "      async function convertToInteractive(key) {\n",
              "        const element = document.querySelector('#df-f5782d6c-26c9-414a-bb68-5d5b9f5b659b');\n",
              "        const dataTable =\n",
              "          await google.colab.kernel.invokeFunction('convertToInteractive',\n",
              "                                                    [key], {});\n",
              "        if (!dataTable) return;\n",
              "\n",
              "        const docLinkHtml = 'Like what you see? Visit the ' +\n",
              "          '<a target=\"_blank\" href=https://colab.research.google.com/notebooks/data_table.ipynb>data table notebook</a>'\n",
              "          + ' to learn more about interactive tables.';\n",
              "        element.innerHTML = '';\n",
              "        dataTable['output_type'] = 'display_data';\n",
              "        await google.colab.output.renderOutput(dataTable, element);\n",
              "        const docLink = document.createElement('div');\n",
              "        docLink.innerHTML = docLinkHtml;\n",
              "        element.appendChild(docLink);\n",
              "      }\n",
              "    </script>\n",
              "  </div>\n",
              "\n",
              "\n",
              "<div id=\"df-89703f75-b3a3-416d-8496-23128fa26399\">\n",
              "  <button class=\"colab-df-quickchart\" onclick=\"quickchart('df-89703f75-b3a3-416d-8496-23128fa26399')\"\n",
              "            title=\"Suggest charts\"\n",
              "            style=\"display:none;\">\n",
              "\n",
              "<svg xmlns=\"http://www.w3.org/2000/svg\" height=\"24px\"viewBox=\"0 0 24 24\"\n",
              "     width=\"24px\">\n",
              "    <g>\n",
              "        <path d=\"M19 3H5c-1.1 0-2 .9-2 2v14c0 1.1.9 2 2 2h14c1.1 0 2-.9 2-2V5c0-1.1-.9-2-2-2zM9 17H7v-7h2v7zm4 0h-2V7h2v10zm4 0h-2v-4h2v4z\"/>\n",
              "    </g>\n",
              "</svg>\n",
              "  </button>\n",
              "\n",
              "<style>\n",
              "  .colab-df-quickchart {\n",
              "      --bg-color: #E8F0FE;\n",
              "      --fill-color: #1967D2;\n",
              "      --hover-bg-color: #E2EBFA;\n",
              "      --hover-fill-color: #174EA6;\n",
              "      --disabled-fill-color: #AAA;\n",
              "      --disabled-bg-color: #DDD;\n",
              "  }\n",
              "\n",
              "  [theme=dark] .colab-df-quickchart {\n",
              "      --bg-color: #3B4455;\n",
              "      --fill-color: #D2E3FC;\n",
              "      --hover-bg-color: #434B5C;\n",
              "      --hover-fill-color: #FFFFFF;\n",
              "      --disabled-bg-color: #3B4455;\n",
              "      --disabled-fill-color: #666;\n",
              "  }\n",
              "\n",
              "  .colab-df-quickchart {\n",
              "    background-color: var(--bg-color);\n",
              "    border: none;\n",
              "    border-radius: 50%;\n",
              "    cursor: pointer;\n",
              "    display: none;\n",
              "    fill: var(--fill-color);\n",
              "    height: 32px;\n",
              "    padding: 0;\n",
              "    width: 32px;\n",
              "  }\n",
              "\n",
              "  .colab-df-quickchart:hover {\n",
              "    background-color: var(--hover-bg-color);\n",
              "    box-shadow: 0 1px 2px rgba(60, 64, 67, 0.3), 0 1px 3px 1px rgba(60, 64, 67, 0.15);\n",
              "    fill: var(--button-hover-fill-color);\n",
              "  }\n",
              "\n",
              "  .colab-df-quickchart-complete:disabled,\n",
              "  .colab-df-quickchart-complete:disabled:hover {\n",
              "    background-color: var(--disabled-bg-color);\n",
              "    fill: var(--disabled-fill-color);\n",
              "    box-shadow: none;\n",
              "  }\n",
              "\n",
              "  .colab-df-spinner {\n",
              "    border: 2px solid var(--fill-color);\n",
              "    border-color: transparent;\n",
              "    border-bottom-color: var(--fill-color);\n",
              "    animation:\n",
              "      spin 1s steps(1) infinite;\n",
              "  }\n",
              "\n",
              "  @keyframes spin {\n",
              "    0% {\n",
              "      border-color: transparent;\n",
              "      border-bottom-color: var(--fill-color);\n",
              "      border-left-color: var(--fill-color);\n",
              "    }\n",
              "    20% {\n",
              "      border-color: transparent;\n",
              "      border-left-color: var(--fill-color);\n",
              "      border-top-color: var(--fill-color);\n",
              "    }\n",
              "    30% {\n",
              "      border-color: transparent;\n",
              "      border-left-color: var(--fill-color);\n",
              "      border-top-color: var(--fill-color);\n",
              "      border-right-color: var(--fill-color);\n",
              "    }\n",
              "    40% {\n",
              "      border-color: transparent;\n",
              "      border-right-color: var(--fill-color);\n",
              "      border-top-color: var(--fill-color);\n",
              "    }\n",
              "    60% {\n",
              "      border-color: transparent;\n",
              "      border-right-color: var(--fill-color);\n",
              "    }\n",
              "    80% {\n",
              "      border-color: transparent;\n",
              "      border-right-color: var(--fill-color);\n",
              "      border-bottom-color: var(--fill-color);\n",
              "    }\n",
              "    90% {\n",
              "      border-color: transparent;\n",
              "      border-bottom-color: var(--fill-color);\n",
              "    }\n",
              "  }\n",
              "</style>\n",
              "\n",
              "  <script>\n",
              "    async function quickchart(key) {\n",
              "      const quickchartButtonEl =\n",
              "        document.querySelector('#' + key + ' button');\n",
              "      quickchartButtonEl.disabled = true;  // To prevent multiple clicks.\n",
              "      quickchartButtonEl.classList.add('colab-df-spinner');\n",
              "      try {\n",
              "        const charts = await google.colab.kernel.invokeFunction(\n",
              "            'suggestCharts', [key], {});\n",
              "      } catch (error) {\n",
              "        console.error('Error during call to suggestCharts:', error);\n",
              "      }\n",
              "      quickchartButtonEl.classList.remove('colab-df-spinner');\n",
              "      quickchartButtonEl.classList.add('colab-df-quickchart-complete');\n",
              "    }\n",
              "    (() => {\n",
              "      let quickchartButtonEl =\n",
              "        document.querySelector('#df-89703f75-b3a3-416d-8496-23128fa26399 button');\n",
              "      quickchartButtonEl.style.display =\n",
              "        google.colab.kernel.accessAllowed ? 'block' : 'none';\n",
              "    })();\n",
              "  </script>\n",
              "</div>\n",
              "\n",
              "    </div>\n",
              "  </div>\n"
            ],
            "application/vnd.google.colaboratory.intrinsic+json": {
              "type": "dataframe",
              "variable_name": "data",
              "summary": "{\n  \"name\": \"data\",\n  \"rows\": 85907,\n  \"fields\": [\n    {\n      \"column\": \"Unique id\",\n      \"properties\": {\n        \"dtype\": \"string\",\n        \"num_unique_values\": 85907,\n        \"samples\": [\n          \"fc42f862-7521-472c-b569-8bce866ebe8c\",\n          \"a7bb8900-a120-430f-b573-55ed6c16faab\",\n          \"b697f809-0d10-4839-9ccd-152ab6a179f4\"\n        ],\n        \"semantic_type\": \"\",\n        \"description\": \"\"\n      }\n    },\n    {\n      \"column\": \"channel_name\",\n      \"properties\": {\n        \"dtype\": \"category\",\n        \"num_unique_values\": 3,\n        \"samples\": [\n          \"Outcall\",\n          \"Inbound\",\n          \"Email\"\n        ],\n        \"semantic_type\": \"\",\n        \"description\": \"\"\n      }\n    },\n    {\n      \"column\": \"category\",\n      \"properties\": {\n        \"dtype\": \"category\",\n        \"num_unique_values\": 12,\n        \"samples\": [\n          \"Others\",\n          \"Onboarding related\",\n          \"Product Queries\"\n        ],\n        \"semantic_type\": \"\",\n        \"description\": \"\"\n      }\n    },\n    {\n      \"column\": \"Sub-category\",\n      \"properties\": {\n        \"dtype\": \"category\",\n        \"num_unique_values\": 57,\n        \"samples\": [\n          \"Life Insurance\",\n          \"Fraudulent User\",\n          \"Card/EMI\"\n        ],\n        \"semantic_type\": \"\",\n        \"description\": \"\"\n      }\n    },\n    {\n      \"column\": \"Customer Remarks\",\n      \"properties\": {\n        \"dtype\": \"category\",\n        \"num_unique_values\": 18231,\n        \"samples\": [\n          \"Interaction in telephonically is good experience she talk very nyc n solve my problem thanx dear\",\n          \"I am happy with the support received.\",\n          \"Please remove your Shopzilla vendor from your service \"\n        ],\n        \"semantic_type\": \"\",\n        \"description\": \"\"\n      }\n    },\n    {\n      \"column\": \"Order_id\",\n      \"properties\": {\n        \"dtype\": \"string\",\n        \"num_unique_values\": 67675,\n        \"samples\": [\n          \"414c0688-adaf-4123-b342-e8bd2c050638\",\n          \"110cba2e-b988-40b8-9967-716c8d6e7a71\",\n          \"0058ad82-75ed-4253-821b-86553937658b\"\n        ],\n        \"semantic_type\": \"\",\n        \"description\": \"\"\n      }\n    },\n    {\n      \"column\": \"order_date_time\",\n      \"properties\": {\n        \"dtype\": \"date\",\n        \"min\": \"2022-01-16 13:15:00\",\n        \"max\": \"2023-12-08 23:36:00\",\n        \"num_unique_values\": 13766,\n        \"samples\": [\n          \"27/06/2023 08:27\",\n          \"09/08/2023 06:19\",\n          \"28/07/2023 19:02\"\n        ],\n        \"semantic_type\": \"\",\n        \"description\": \"\"\n      }\n    },\n    {\n      \"column\": \"Issue_reported at\",\n      \"properties\": {\n        \"dtype\": \"category\",\n        \"num_unique_values\": 30923,\n        \"samples\": [\n          \"26/08/2023 17:45\",\n          \"11/08/2023 01:02\",\n          \"25/08/2023 22:00\"\n        ],\n        \"semantic_type\": \"\",\n        \"description\": \"\"\n      }\n    },\n    {\n      \"column\": \"issue_responded\",\n      \"properties\": {\n        \"dtype\": \"category\",\n        \"num_unique_values\": 30262,\n        \"samples\": [\n          \"11/08/2023 15:20\",\n          \"05/08/2023 23:43\",\n          \"06/08/2023 11:39\"\n        ],\n        \"semantic_type\": \"\",\n        \"description\": \"\"\n      }\n    },\n    {\n      \"column\": \"Survey_response_Date\",\n      \"properties\": {\n        \"dtype\": \"object\",\n        \"num_unique_values\": 31,\n        \"samples\": [\n          \"28-Aug-23\",\n          \"16-Aug-23\",\n          \"24-Aug-23\"\n        ],\n        \"semantic_type\": \"\",\n        \"description\": \"\"\n      }\n    },\n    {\n      \"column\": \"Customer_City\",\n      \"properties\": {\n        \"dtype\": \"category\",\n        \"num_unique_values\": 1782,\n        \"samples\": [\n          \"FEROZEPUR JHIRKA\",\n          \"NAMRUP\",\n          \"MUZAFFARPUR\"\n        ],\n        \"semantic_type\": \"\",\n        \"description\": \"\"\n      }\n    },\n    {\n      \"column\": \"Product_category\",\n      \"properties\": {\n        \"dtype\": \"category\",\n        \"num_unique_values\": 9,\n        \"samples\": [\n          \"GiftCard\",\n          \"Electronics\",\n          \"Home\"\n        ],\n        \"semantic_type\": \"\",\n        \"description\": \"\"\n      }\n    },\n    {\n      \"column\": \"Item_price\",\n      \"properties\": {\n        \"dtype\": \"number\",\n        \"std\": 12825.728411195747,\n        \"min\": 0.0,\n        \"max\": 164999.0,\n        \"num_unique_values\": 2789,\n        \"samples\": [\n          764.0,\n          1055.0,\n          2386.0\n        ],\n        \"semantic_type\": \"\",\n        \"description\": \"\"\n      }\n    },\n    {\n      \"column\": \"connected_handling_time\",\n      \"properties\": {\n        \"dtype\": \"number\",\n        \"std\": 246.29503712116792,\n        \"min\": 0.0,\n        \"max\": 1986.0,\n        \"num_unique_values\": 211,\n        \"samples\": [\n          777.0,\n          282.0,\n          815.0\n        ],\n        \"semantic_type\": \"\",\n        \"description\": \"\"\n      }\n    },\n    {\n      \"column\": \"Agent_name\",\n      \"properties\": {\n        \"dtype\": \"category\",\n        \"num_unique_values\": 1371,\n        \"samples\": [\n          \"Kimberly Morris\",\n          \"Russell Ramsey\",\n          \"Joshua Foster\"\n        ],\n        \"semantic_type\": \"\",\n        \"description\": \"\"\n      }\n    },\n    {\n      \"column\": \"Supervisor\",\n      \"properties\": {\n        \"dtype\": \"category\",\n        \"num_unique_values\": 40,\n        \"samples\": [\n          \"Madison Kim\",\n          \"Mia Patel\",\n          \"Logan Lee\"\n        ],\n        \"semantic_type\": \"\",\n        \"description\": \"\"\n      }\n    },\n    {\n      \"column\": \"Manager\",\n      \"properties\": {\n        \"dtype\": \"category\",\n        \"num_unique_values\": 6,\n        \"samples\": [\n          \"Jennifer Nguyen\",\n          \"Michael Lee\",\n          \"Emily Chen\"\n        ],\n        \"semantic_type\": \"\",\n        \"description\": \"\"\n      }\n    },\n    {\n      \"column\": \"Tenure Bucket\",\n      \"properties\": {\n        \"dtype\": \"category\",\n        \"num_unique_values\": 5,\n        \"samples\": [\n          \">90\",\n          \"61-90\",\n          \"0-30\"\n        ],\n        \"semantic_type\": \"\",\n        \"description\": \"\"\n      }\n    },\n    {\n      \"column\": \"Agent Shift\",\n      \"properties\": {\n        \"dtype\": \"category\",\n        \"num_unique_values\": 5,\n        \"samples\": [\n          \"Evening\",\n          \"Night\",\n          \"Split\"\n        ],\n        \"semantic_type\": \"\",\n        \"description\": \"\"\n      }\n    },\n    {\n      \"column\": \"CSAT Score\",\n      \"properties\": {\n        \"dtype\": \"number\",\n        \"std\": 1,\n        \"min\": 1,\n        \"max\": 5,\n        \"num_unique_values\": 5,\n        \"samples\": [\n          4,\n          2,\n          1\n        ],\n        \"semantic_type\": \"\",\n        \"description\": \"\"\n      }\n    }\n  ]\n}"
            }
          },
          "metadata": {},
          "execution_count": 6
        }
      ]
    },
    {
      "cell_type": "markdown",
      "source": [
        "### Dataset Rows & Columns count"
      ],
      "metadata": {
        "id": "7hBIi_osiCS2"
      }
    },
    {
      "cell_type": "code",
      "source": [
        "# Dataset Rows & Columns count\n",
        "data.shape"
      ],
      "metadata": {
        "id": "Kllu7SJgmLij",
        "colab": {
          "base_uri": "https://localhost:8080/"
        },
        "outputId": "f1e8636d-fbef-4078-bbb4-043d6ede4772"
      },
      "execution_count": null,
      "outputs": [
        {
          "output_type": "execute_result",
          "data": {
            "text/plain": [
              "(85907, 20)"
            ]
          },
          "metadata": {},
          "execution_count": 7
        }
      ]
    },
    {
      "cell_type": "markdown",
      "source": [
        "### Dataset Information"
      ],
      "metadata": {
        "id": "JlHwYmJAmNHm"
      }
    },
    {
      "cell_type": "code",
      "source": [
        "# Dataset Info\n",
        "data.info()"
      ],
      "metadata": {
        "id": "e9hRXRi6meOf",
        "colab": {
          "base_uri": "https://localhost:8080/"
        },
        "outputId": "e9773e98-7e52-4013-c009-491ed4df2c5c"
      },
      "execution_count": null,
      "outputs": [
        {
          "output_type": "stream",
          "name": "stdout",
          "text": [
            "<class 'pandas.core.frame.DataFrame'>\n",
            "RangeIndex: 85907 entries, 0 to 85906\n",
            "Data columns (total 20 columns):\n",
            " #   Column                   Non-Null Count  Dtype  \n",
            "---  ------                   --------------  -----  \n",
            " 0   Unique id                85907 non-null  object \n",
            " 1   channel_name             85907 non-null  object \n",
            " 2   category                 85907 non-null  object \n",
            " 3   Sub-category             85907 non-null  object \n",
            " 4   Customer Remarks         28742 non-null  object \n",
            " 5   Order_id                 67675 non-null  object \n",
            " 6   order_date_time          17214 non-null  object \n",
            " 7   Issue_reported at        85907 non-null  object \n",
            " 8   issue_responded          85907 non-null  object \n",
            " 9   Survey_response_Date     85907 non-null  object \n",
            " 10  Customer_City            17079 non-null  object \n",
            " 11  Product_category         17196 non-null  object \n",
            " 12  Item_price               17206 non-null  float64\n",
            " 13  connected_handling_time  242 non-null    float64\n",
            " 14  Agent_name               85907 non-null  object \n",
            " 15  Supervisor               85907 non-null  object \n",
            " 16  Manager                  85907 non-null  object \n",
            " 17  Tenure Bucket            85907 non-null  object \n",
            " 18  Agent Shift              85907 non-null  object \n",
            " 19  CSAT Score               85907 non-null  int64  \n",
            "dtypes: float64(2), int64(1), object(17)\n",
            "memory usage: 13.1+ MB\n"
          ]
        }
      ]
    },
    {
      "cell_type": "markdown",
      "source": [
        "#### Duplicate Values"
      ],
      "metadata": {
        "id": "35m5QtbWiB9F"
      }
    },
    {
      "cell_type": "code",
      "source": [
        "# Dataset Duplicate Value Count\n",
        "duplicate_rows = data.duplicated()\n",
        "\n",
        "print(\"Duplicate rows:\")\n",
        "print(data[duplicate_rows])"
      ],
      "metadata": {
        "id": "1sLdpKYkmox0",
        "colab": {
          "base_uri": "https://localhost:8080/"
        },
        "outputId": "4c24faff-ca94-444e-8ea4-abb8afd65680"
      },
      "execution_count": null,
      "outputs": [
        {
          "output_type": "stream",
          "name": "stdout",
          "text": [
            "Duplicate rows:\n",
            "Empty DataFrame\n",
            "Columns: [Unique id, channel_name, category, Sub-category, Customer Remarks, Order_id, order_date_time, Issue_reported at, issue_responded, Survey_response_Date, Customer_City, Product_category, Item_price, connected_handling_time, Agent_name, Supervisor, Manager, Tenure Bucket, Agent Shift, CSAT Score]\n",
            "Index: []\n"
          ]
        }
      ]
    },
    {
      "cell_type": "markdown",
      "source": [
        "#### Missing Values/Null Values"
      ],
      "metadata": {
        "id": "PoPl-ycgm1ru"
      }
    },
    {
      "cell_type": "code",
      "source": [
        "# Missing Values/Null Values Count\n",
        "data.isnull().sum()"
      ],
      "metadata": {
        "id": "GgHWkxvamxVg",
        "colab": {
          "base_uri": "https://localhost:8080/"
        },
        "outputId": "6a6b7d91-ce38-4583-c525-b963531389fa"
      },
      "execution_count": null,
      "outputs": [
        {
          "output_type": "execute_result",
          "data": {
            "text/plain": [
              "Unique id                      0\n",
              "channel_name                   0\n",
              "category                       0\n",
              "Sub-category                   0\n",
              "Customer Remarks           57165\n",
              "Order_id                   18232\n",
              "order_date_time            68693\n",
              "Issue_reported at              0\n",
              "issue_responded                0\n",
              "Survey_response_Date           0\n",
              "Customer_City              68828\n",
              "Product_category           68711\n",
              "Item_price                 68701\n",
              "connected_handling_time    85665\n",
              "Agent_name                     0\n",
              "Supervisor                     0\n",
              "Manager                        0\n",
              "Tenure Bucket                  0\n",
              "Agent Shift                    0\n",
              "CSAT Score                     0\n",
              "dtype: int64"
            ]
          },
          "metadata": {},
          "execution_count": 10
        }
      ]
    },
    {
      "cell_type": "code",
      "source": [
        "# Visualizing the missing values\n",
        "sns.heatmap(data.isnull(), cbar=False)"
      ],
      "metadata": {
        "id": "3q5wnI3om9sJ",
        "colab": {
          "base_uri": "https://localhost:8080/"
        },
        "outputId": "df173891-d4d2-45d2-bbc5-f493da54b341"
      },
      "execution_count": null,
      "outputs": [
        {
          "output_type": "execute_result",
          "data": {
            "text/plain": [
              "<Axes: >"
            ]
          },
          "metadata": {},
          "execution_count": 11
        },
        {
          "output_type": "display_data",
          "data": {
            "text/plain": [
              "<Figure size 640x480 with 1 Axes>"
            ],
            "image/png": "[encoded data removed]"
          },
          "metadata": {}
        }
      ]
    },
    {
      "cell_type": "markdown",
      "source": [
        "### What did you know about your dataset?"
      ],
      "metadata": {
        "id": "H0kj-8xxnORC"
      }
    },
    {
      "cell_type": "markdown",
      "source": [
        "Above provided dataset encompasses customer satisfaction scores over a one-month period on an e-commerce platform named \"Shopzilla. It has 85907 rows and 20 columns.Dataset mostly contains object datatypes except having 2 floats and 1 integer type data.\n",
        "\n",
        "There are no duplicate rows in dataset but it has features or columns with null values. Total of 7 columns contains null values hence this variables need to be handled before procceding further."
      ],
      "metadata": {
        "id": "gfoNAAC-nUe_"
      }
    },
    {
      "cell_type": "markdown",
      "source": [
        "## ***2. Understanding Your Variables***"
      ],
      "metadata": {
        "id": "nA9Y7ga8ng1Z"
      }
    },
    {
      "cell_type": "code",
      "source": [
        "# Dataset Columns\n",
        "data.columns"
      ],
      "metadata": {
        "id": "j7xfkqrt5Ag5",
        "colab": {
          "base_uri": "https://localhost:8080/"
        },
        "outputId": "e69fff38-0068-4b50-efb0-5d859c9921e0"
      },
      "execution_count": null,
      "outputs": [
        {
          "output_type": "execute_result",
          "data": {
            "text/plain": [
              "Index(['Unique id', 'channel_name', 'category', 'Sub-category',\n",
              "       'Customer Remarks', 'Order_id', 'order_date_time', 'Issue_reported at',\n",
              "       'issue_responded', 'Survey_response_Date', 'Customer_City',\n",
              "       'Product_category', 'Item_price', 'connected_handling_time',\n",
              "       'Agent_name', 'Supervisor', 'Manager', 'Tenure Bucket', 'Agent Shift',\n",
              "       'CSAT Score'],\n",
              "      dtype='object')"
            ]
          },
          "metadata": {},
          "execution_count": 12
        }
      ]
    },
    {
      "cell_type": "code",
      "source": [
        "# Dataset Describe\n",
        "data.describe()"
      ],
      "metadata": {
        "id": "DnOaZdaE5Q5t",
        "colab": {
          "base_uri": "https://localhost:8080/"
        },
        "outputId": "5ae0754a-1bde-4fc5-f190-f0f89f38dd7d"
      },
      "execution_count": null,
      "outputs": [
        {
          "output_type": "execute_result",
          "data": {
            "text/plain": [
              "          Item_price  connected_handling_time    CSAT Score\n",
              "count   17206.000000               242.000000  85907.000000\n",
              "mean     5660.774846               462.400826      4.242157\n",
              "std     12825.728411               246.295037      1.378903\n",
              "min         0.000000                 0.000000      1.000000\n",
              "25%       392.000000               293.000000      4.000000\n",
              "50%       979.000000               427.000000      5.000000\n",
              "75%      2699.750000               592.250000      5.000000\n",
              "max    164999.000000              1986.000000      5.000000"
            ],
            "text/html": [
              "\n",
              "  <div id=\"df-4b3cf129-6e58-41fa-890e-449134dfc4eb\" class=\"colab-df-container\">\n",
              "    <div>\n",
              "<style scoped>\n",
              "    .dataframe tbody tr th:only-of-type {\n",
              "        vertical-align: middle;\n",
              "    }\n",
              "\n",
              "    .dataframe tbody tr th {\n",
              "        vertical-align: top;\n",
              "    }\n",
              "\n",
              "    .dataframe thead th {\n",
              "        text-align: right;\n",
              "    }\n",
              "</style>\n",
              "<table border=\"1\" class=\"dataframe\">\n",
              "  <thead>\n",
              "    <tr style=\"text-align: right;\">\n",
              "      <th></th>\n",
              "      <th>Item_price</th>\n",
              "      <th>connected_handling_time</th>\n",
              "      <th>CSAT Score</th>\n",
              "    </tr>\n",
              "  </thead>\n",
              "  <tbody>\n",
              "    <tr>\n",
              "      <th>count</th>\n",
              "      <td>17206.000000</td>\n",
              "      <td>242.000000</td>\n",
              "      <td>85907.000000</td>\n",
              "    </tr>\n",
              "    <tr>\n",
              "      <th>mean</th>\n",
              "      <td>5660.774846</td>\n",
              "      <td>462.400826</td>\n",
              "      <td>4.242157</td>\n",
              "    </tr>\n",
              "    <tr>\n",
              "      <th>std</th>\n",
              "      <td>12825.728411</td>\n",
              "      <td>246.295037</td>\n",
              "      <td>1.378903</td>\n",
              "    </tr>\n",
              "    <tr>\n",
              "      <th>min</th>\n",
              "      <td>0.000000</td>\n",
              "      <td>0.000000</td>\n",
              "      <td>1.000000</td>\n",
              "    </tr>\n",
              "    <tr>\n",
              "      <th>25%</th>\n",
              "      <td>392.000000</td>\n",
              "      <td>293.000000</td>\n",
              "      <td>4.000000</td>\n",
              "    </tr>\n",
              "    <tr>\n",
              "      <th>50%</th>\n",
              "      <td>979.000000</td>\n",
              "      <td>427.000000</td>\n",
              "      <td>5.000000</td>\n",
              "    </tr>\n",
              "    <tr>\n",
              "      <th>75%</th>\n",
              "      <td>2699.750000</td>\n",
              "      <td>592.250000</td>\n",
              "      <td>5.000000</td>\n",
              "    </tr>\n",
              "    <tr>\n",
              "      <th>max</th>\n",
              "      <td>164999.000000</td>\n",
              "      <td>1986.000000</td>\n",
              "      <td>5.000000</td>\n",
              "    </tr>\n",
              "  </tbody>\n",
              "</table>\n",
              "</div>\n",
              "    <div class=\"colab-df-buttons\">\n",
              "\n",
              "  <div class=\"colab-df-container\">\n",
              "    <button class=\"colab-df-convert\" onclick=\"convertToInteractive('df-4b3cf129-6e58-41fa-890e-449134dfc4eb')\"\n",
              "            title=\"Convert this dataframe to an interactive table.\"\n",
              "            style=\"display:none;\">\n",
              "\n",
              "  <svg xmlns=\"http://www.w3.org/2000/svg\" height=\"24px\" viewBox=\"0 -960 960 960\">\n",
              "    <path d=\"M120-120v-720h720v720H120Zm60-500h600v-160H180v160Zm220 220h160v-160H400v160Zm0 220h160v-160H400v160ZM180-400h160v-160H180v160Zm440 0h160v-160H620v160ZM180-180h160v-160H180v160Zm440 0h160v-160H620v160Z\"/>\n",
              "  </svg>\n",
              "    </button>\n",
              "\n",
              "  <style>\n",
              "    .colab-df-container {\n",
              "      display:flex;\n",
              "      gap: 12px;\n",
              "    }\n",
              "\n",
              "    .colab-df-convert {\n",
              "      background-color: #E8F0FE;\n",
              "      border: none;\n",
              "      border-radius: 50%;\n",
              "      cursor: pointer;\n",
              "      display: none;\n",
              "      fill: #1967D2;\n",
              "      height: 32px;\n",
              "      padding: 0 0 0 0;\n",
              "      width: 32px;\n",
              "    }\n",
              "\n",
              "    .colab-df-convert:hover {\n",
              "      background-color: #E2EBFA;\n",
              "      box-shadow: 0px 1px 2px rgba(60, 64, 67, 0.3), 0px 1px 3px 1px rgba(60, 64, 67, 0.15);\n",
              "      fill: #174EA6;\n",
              "    }\n",
              "\n",
              "    .colab-df-buttons div {\n",
              "      margin-bottom: 4px;\n",
              "    }\n",
              "\n",
              "    [theme=dark] .colab-df-convert {\n",
              "      background-color: #3B4455;\n",
              "      fill: #D2E3FC;\n",
              "    }\n",
              "\n",
              "    [theme=dark] .colab-df-convert:hover {\n",
              "      background-color: #434B5C;\n",
              "      box-shadow: 0px 1px 3px 1px rgba(0, 0, 0, 0.15);\n",
              "      filter: drop-shadow(0px 1px 2px rgba(0, 0, 0, 0.3));\n",
              "      fill: #FFFFFF;\n",
              "    }\n",
              "  </style>\n",
              "\n",
              "    <script>\n",
              "      const buttonEl =\n",
              "        document.querySelector('#df-4b3cf129-6e58-41fa-890e-449134dfc4eb button.colab-df-convert');\n",
              "      buttonEl.style.display =\n",
              "        google.colab.kernel.accessAllowed ? 'block' : 'none';\n",
              "\n",
              "      async function convertToInteractive(key) {\n",
              "        const element = document.querySelector('#df-4b3cf129-6e58-41fa-890e-449134dfc4eb');\n",
              "        const dataTable =\n",
              "          await google.colab.kernel.invokeFunction('convertToInteractive',\n",
              "                                                    [key], {});\n",
              "        if (!dataTable) return;\n",
              "\n",
              "        const docLinkHtml = 'Like what you see? Visit the ' +\n",
              "          '<a target=\"_blank\" href=https://colab.research.google.com/notebooks/data_table.ipynb>data table notebook</a>'\n",
              "          + ' to learn more about interactive tables.';\n",
              "        element.innerHTML = '';\n",
              "        dataTable['output_type'] = 'display_data';\n",
              "        await google.colab.output.renderOutput(dataTable, element);\n",
              "        const docLink = document.createElement('div');\n",
              "        docLink.innerHTML = docLinkHtml;\n",
              "        element.appendChild(docLink);\n",
              "      }\n",
              "    </script>\n",
              "  </div>\n",
              "\n",
              "\n",
              "<div id=\"df-4cebaf0c-7644-4ac0-8706-e52b0841ab96\">\n",
              "  <button class=\"colab-df-quickchart\" onclick=\"quickchart('df-4cebaf0c-7644-4ac0-8706-e52b0841ab96')\"\n",
              "            title=\"Suggest charts\"\n",
              "            style=\"display:none;\">\n",
              "\n",
              "<svg xmlns=\"http://www.w3.org/2000/svg\" height=\"24px\"viewBox=\"0 0 24 24\"\n",
              "     width=\"24px\">\n",
              "    <g>\n",
              "        <path d=\"M19 3H5c-1.1 0-2 .9-2 2v14c0 1.1.9 2 2 2h14c1.1 0 2-.9 2-2V5c0-1.1-.9-2-2-2zM9 17H7v-7h2v7zm4 0h-2V7h2v10zm4 0h-2v-4h2v4z\"/>\n",
              "    </g>\n",
              "</svg>\n",
              "  </button>\n",
              "\n",
              "<style>\n",
              "  .colab-df-quickchart {\n",
              "      --bg-color: #E8F0FE;\n",
              "      --fill-color: #1967D2;\n",
              "      --hover-bg-color: #E2EBFA;\n",
              "      --hover-fill-color: #174EA6;\n",
              "      --disabled-fill-color: #AAA;\n",
              "      --disabled-bg-color: #DDD;\n",
              "  }\n",
              "\n",
              "  [theme=dark] .colab-df-quickchart {\n",
              "      --bg-color: #3B4455;\n",
              "      --fill-color: #D2E3FC;\n",
              "      --hover-bg-color: #434B5C;\n",
              "      --hover-fill-color: #FFFFFF;\n",
              "      --disabled-bg-color: #3B4455;\n",
              "      --disabled-fill-color: #666;\n",
              "  }\n",
              "\n",
              "  .colab-df-quickchart {\n",
              "    background-color: var(--bg-color);\n",
              "    border: none;\n",
              "    border-radius: 50%;\n",
              "    cursor: pointer;\n",
              "    display: none;\n",
              "    fill: var(--fill-color);\n",
              "    height: 32px;\n",
              "    padding: 0;\n",
              "    width: 32px;\n",
              "  }\n",
              "\n",
              "  .colab-df-quickchart:hover {\n",
              "    background-color: var(--hover-bg-color);\n",
              "    box-shadow: 0 1px 2px rgba(60, 64, 67, 0.3), 0 1px 3px 1px rgba(60, 64, 67, 0.15);\n",
              "    fill: var(--button-hover-fill-color);\n",
              "  }\n",
              "\n",
              "  .colab-df-quickchart-complete:disabled,\n",
              "  .colab-df-quickchart-complete:disabled:hover {\n",
              "    background-color: var(--disabled-bg-color);\n",
              "    fill: var(--disabled-fill-color);\n",
              "    box-shadow: none;\n",
              "  }\n",
              "\n",
              "  .colab-df-spinner {\n",
              "    border: 2px solid var(--fill-color);\n",
              "    border-color: transparent;\n",
              "    border-bottom-color: var(--fill-color);\n",
              "    animation:\n",
              "      spin 1s steps(1) infinite;\n",
              "  }\n",
              "\n",
              "  @keyframes spin {\n",
              "    0% {\n",
              "      border-color: transparent;\n",
              "      border-bottom-color: var(--fill-color);\n",
              "      border-left-color: var(--fill-color);\n",
              "    }\n",
              "    20% {\n",
              "      border-color: transparent;\n",
              "      border-left-color: var(--fill-color);\n",
              "      border-top-color: var(--fill-color);\n",
              "    }\n",
              "    30% {\n",
              "      border-color: transparent;\n",
              "      border-left-color: var(--fill-color);\n",
              "      border-top-color: var(--fill-color);\n",
              "      border-right-color: var(--fill-color);\n",
              "    }\n",
              "    40% {\n",
              "      border-color: transparent;\n",
              "      border-right-color: var(--fill-color);\n",
              "      border-top-color: var(--fill-color);\n",
              "    }\n",
              "    60% {\n",
              "      border-color: transparent;\n",
              "      border-right-color: var(--fill-color);\n",
              "    }\n",
              "    80% {\n",
              "      border-color: transparent;\n",
              "      border-right-color: var(--fill-color);\n",
              "      border-bottom-color: var(--fill-color);\n",
              "    }\n",
              "    90% {\n",
              "      border-color: transparent;\n",
              "      border-bottom-color: var(--fill-color);\n",
              "    }\n",
              "  }\n",
              "</style>\n",
              "\n",
              "  <script>\n",
              "    async function quickchart(key) {\n",
              "      const quickchartButtonEl =\n",
              "        document.querySelector('#' + key + ' button');\n",
              "      quickchartButtonEl.disabled = true;  // To prevent multiple clicks.\n",
              "      quickchartButtonEl.classList.add('colab-df-spinner');\n",
              "      try {\n",
              "        const charts = await google.colab.kernel.invokeFunction(\n",
              "            'suggestCharts', [key], {});\n",
              "      } catch (error) {\n",
              "        console.error('Error during call to suggestCharts:', error);\n",
              "      }\n",
              "      quickchartButtonEl.classList.remove('colab-df-spinner');\n",
              "      quickchartButtonEl.classList.add('colab-df-quickchart-complete');\n",
              "    }\n",
              "    (() => {\n",
              "      let quickchartButtonEl =\n",
              "        document.querySelector('#df-4cebaf0c-7644-4ac0-8706-e52b0841ab96 button');\n",
              "      quickchartButtonEl.style.display =\n",
              "        google.colab.kernel.accessAllowed ? 'block' : 'none';\n",
              "    })();\n",
              "  </script>\n",
              "</div>\n",
              "\n",
              "    </div>\n",
              "  </div>\n"
            ],
            "application/vnd.google.colaboratory.intrinsic+json": {
              "type": "dataframe",
              "summary": "{\n  \"name\": \"data\",\n  \"rows\": 8,\n  \"fields\": [\n    {\n      \"column\": \"Item_price\",\n      \"properties\": {\n        \"dtype\": \"number\",\n        \"std\": 56675.40828301801,\n        \"min\": 0.0,\n        \"max\": 164999.0,\n        \"num_unique_values\": 8,\n        \"samples\": [\n          5660.7748459839595,\n          979.0,\n          17206.0\n        ],\n        \"semantic_type\": \"\",\n        \"description\": \"\"\n      }\n    },\n    {\n      \"column\": \"connected_handling_time\",\n      \"properties\": {\n        \"dtype\": \"number\",\n        \"std\": 614.0592355288412,\n        \"min\": 0.0,\n        \"max\": 1986.0,\n        \"num_unique_values\": 8,\n        \"samples\": [\n          462.400826446281,\n          427.0,\n          242.0\n        ],\n        \"semantic_type\": \"\",\n        \"description\": \"\"\n      }\n    },\n    {\n      \"column\": \"CSAT Score\",\n      \"properties\": {\n        \"dtype\": \"number\",\n        \"std\": 30371.417109350998,\n        \"min\": 1.0,\n        \"max\": 85907.0,\n        \"num_unique_values\": 6,\n        \"samples\": [\n          85907.0,\n          4.242157216524847,\n          5.0\n        ],\n        \"semantic_type\": \"\",\n        \"description\": \"\"\n      }\n    }\n  ]\n}"
            }
          },
          "metadata": {},
          "execution_count": 13
        }
      ]
    },
    {
      "cell_type": "markdown",
      "source": [
        "### Variables Description"
      ],
      "metadata": {
        "id": "PBTbrJXOngz2"
      }
    },
    {
      "cell_type": "markdown",
      "source": [
        "Unique id: Unique identifier for each record (integer).\n",
        "\n",
        "Channel name: Name of the customer service channel (object/string).\n",
        "\n",
        "Category: Category of the interaction (object/string).\n",
        "\n",
        "Sub-category: Sub-category of the interaction (object/string).\n",
        "\n",
        "Customer Remarks: Feedback provided by the customer (object/string).\n",
        "\n",
        "Order id: Identifier for the order associated with the interaction (integer).\n",
        "\n",
        "Order date time: Date and time of the order (datetime).\n",
        "\n",
        "Issue reported at: Timestamp when the issue was reported (datetime).\n",
        "\n",
        "Issue responded: Timestamp when the issue was responded to (datetime).\n",
        "\n",
        "Survey response date: Date of the customer survey response (datetime).\n",
        "\n",
        "Customer city: City of the customer (object/string).\n",
        "\n",
        "Product category: Category of the product (object/string).\n",
        "\n",
        "Item price: Price of the item (float).\n",
        "\n",
        "Connected handling time: Time taken to handle the interaction (float).\n",
        "\n",
        "Agent name: Name of the customer service agent (object/string).\n",
        "\n",
        "Supervisor: Name of the supervisor (object/string).\n",
        "\n",
        "Manager: Name of the manager (object/string).\n",
        "\n",
        "Tenure Bucket: Bucket categorizing agent tenure (object/string).\n",
        "\n",
        "Agent Shift: Shift timing of the agent (object/string).\n",
        "\n",
        "CSAT Score: Customer Satisfaction (CSAT) score (integer)."
      ],
      "metadata": {
        "id": "aJV4KIxSnxay"
      }
    },
    {
      "cell_type": "markdown",
      "source": [
        "### Check Unique Values for each variable."
      ],
      "metadata": {
        "id": "u3PMJOP6ngxN"
      }
    },
    {
      "cell_type": "code",
      "source": [
        "# Check Unique Values for each variable.\n",
        "data.nunique()"
      ],
      "metadata": {
        "id": "zms12Yq5n-jE",
        "colab": {
          "base_uri": "https://localhost:8080/"
        },
        "outputId": "48337322-6b81-4633-94e1-0a756fd3d36e"
      },
      "execution_count": null,
      "outputs": [
        {
          "output_type": "execute_result",
          "data": {
            "text/plain": [
              "Unique id                  85907\n",
              "channel_name                   3\n",
              "category                      12\n",
              "Sub-category                  57\n",
              "Customer Remarks           18231\n",
              "Order_id                   67675\n",
              "order_date_time            13766\n",
              "Issue_reported at          30923\n",
              "issue_responded            30262\n",
              "Survey_response_Date          31\n",
              "Customer_City               1782\n",
              "Product_category               9\n",
              "Item_price                  2789\n",
              "connected_handling_time      211\n",
              "Agent_name                  1371\n",
              "Supervisor                    40\n",
              "Manager                        6\n",
              "Tenure Bucket                  5\n",
              "Agent Shift                    5\n",
              "CSAT Score                     5\n",
              "dtype: int64"
            ]
          },
          "metadata": {},
          "execution_count": 14
        }
      ]
    },
    {
      "cell_type": "markdown",
      "source": [
        "## 3. ***Data Wrangling***"
      ],
      "metadata": {
        "id": "dauF4eBmngu3"
      }
    },
    {
      "cell_type": "markdown",
      "source": [
        "### Data Wrangling Code"
      ],
      "metadata": {
        "id": "bKJF3rekwFvQ"
      }
    },
    {
      "cell_type": "code",
      "source": [
        "data.drop(columns=['Unique id', 'Order_id'], inplace=True)"
      ],
      "metadata": {
        "id": "KfJDJFS61_bQ"
      },
      "execution_count": null,
      "outputs": []
    },
    {
      "cell_type": "code",
      "source": [
        "# Write your code to make your dataset analysis ready.\n",
        "#checking percentage of null values in each column\n",
        "round(100*(data.isnull().sum()/len(data.index)), 2)"
      ],
      "metadata": {
        "id": "wk-9a2fpoLcV",
        "colab": {
          "base_uri": "https://localhost:8080/"
        },
        "outputId": "9fd81c8e-1106-4896-99a3-4c08b4bcc864"
      },
      "execution_count": null,
      "outputs": [
        {
          "output_type": "execute_result",
          "data": {
            "text/plain": [
              "channel_name                0.00\n",
              "category                    0.00\n",
              "Sub-category                0.00\n",
              "Customer Remarks           66.54\n",
              "order_date_time            79.96\n",
              "Issue_reported at           0.00\n",
              "issue_responded             0.00\n",
              "Survey_response_Date        0.00\n",
              "Customer_City              80.12\n",
              "Product_category           79.98\n",
              "Item_price                 79.97\n",
              "connected_handling_time    99.72\n",
              "Agent_name                  0.00\n",
              "Supervisor                  0.00\n",
              "Manager                     0.00\n",
              "Tenure Bucket               0.00\n",
              "Agent Shift                 0.00\n",
              "CSAT Score                  0.00\n",
              "dtype: float64"
            ]
          },
          "metadata": {},
          "execution_count": 16
        }
      ]
    },
    {
      "cell_type": "code",
      "source": [
        "# Correct code to drop columns with more than 65% NA values\n",
        "data = data.drop(columns=[col for col in data.columns if (data[col].isnull().sum() / len(data)) * 100 > 65])\n"
      ],
      "metadata": {
        "id": "5Elf1UZi2ytv"
      },
      "execution_count": null,
      "outputs": []
    },
    {
      "cell_type": "code",
      "source": [
        "data['CSAT Score'].unique()"
      ],
      "metadata": {
        "id": "sp5gJsAW9WmZ",
        "colab": {
          "base_uri": "https://localhost:8080/"
        },
        "outputId": "97010481-1d60-4c30-ce29-c90769b37e16"
      },
      "execution_count": null,
      "outputs": [
        {
          "output_type": "execute_result",
          "data": {
            "text/plain": [
              "array([5, 4, 1, 3, 2])"
            ]
          },
          "metadata": {},
          "execution_count": 18
        }
      ]
    },
    {
      "cell_type": "code",
      "source": [
        "data['channel_name'].unique()"
      ],
      "metadata": {
        "id": "10oc0DuA_L8G",
        "colab": {
          "base_uri": "https://localhost:8080/"
        },
        "outputId": "59ed71ff-710b-4405-e824-cf321e22ec2d"
      },
      "execution_count": null,
      "outputs": [
        {
          "output_type": "execute_result",
          "data": {
            "text/plain": [
              "array(['Outcall', 'Inbound', 'Email'], dtype=object)"
            ]
          },
          "metadata": {},
          "execution_count": 19
        }
      ]
    },
    {
      "cell_type": "code",
      "source": [
        "data.head()"
      ],
      "metadata": {
        "id": "SwRaE-y66_vG",
        "colab": {
          "base_uri": "https://localhost:8080/"
        },
        "outputId": "2b33122d-3481-4ed7-9b34-0238148d2ffe"
      },
      "execution_count": null,
      "outputs": [
        {
          "output_type": "execute_result",
          "data": {
            "text/plain": [
              "  channel_name         category                  Sub-category  \\\n",
              "0      Outcall  Product Queries                Life Insurance   \n",
              "1      Outcall  Product Queries  Product Specific Information   \n",
              "2      Inbound    Order Related             Installation/demo   \n",
              "3      Inbound          Returns        Reverse Pickup Enquiry   \n",
              "4      Inbound     Cancellation                    Not Needed   \n",
              "\n",
              "  Issue_reported at   issue_responded Survey_response_Date  \\\n",
              "0  01/08/2023 11:13  01/08/2023 11:47            01-Aug-23   \n",
              "1  01/08/2023 12:52  01/08/2023 12:54            01-Aug-23   \n",
              "2  01/08/2023 20:16  01/08/2023 20:38            01-Aug-23   \n",
              "3  01/08/2023 20:56  01/08/2023 21:16            01-Aug-23   \n",
              "4  01/08/2023 10:30  01/08/2023 10:32            01-Aug-23   \n",
              "\n",
              "            Agent_name      Supervisor          Manager    Tenure Bucket  \\\n",
              "0     Richard Buchanan     Mason Gupta  Jennifer Nguyen  On Job Training   \n",
              "1        Vicki Collins       Dylan Kim      Michael Lee              >90   \n",
              "2         Duane Norman    Jackson Park      William Kim  On Job Training   \n",
              "3       Patrick Flores     Olivia Wang       John Smith              >90   \n",
              "4  Christopher Sanchez  Austin Johnson      Michael Lee             0-30   \n",
              "\n",
              "  Agent Shift  CSAT Score  \n",
              "0     Morning           5  \n",
              "1     Morning           5  \n",
              "2     Evening           5  \n",
              "3     Evening           5  \n",
              "4     Morning           5  "
            ],
            "text/html": [
              "\n",
              "  <div id=\"df-357afcaf-8e00-4054-a031-4a7feb9cb315\" class=\"colab-df-container\">\n",
              "    <div>\n",
              "<style scoped>\n",
              "    .dataframe tbody tr th:only-of-type {\n",
              "        vertical-align: middle;\n",
              "    }\n",
              "\n",
              "    .dataframe tbody tr th {\n",
              "        vertical-align: top;\n",
              "    }\n",
              "\n",
              "    .dataframe thead th {\n",
              "        text-align: right;\n",
              "    }\n",
              "</style>\n",
              "<table border=\"1\" class=\"dataframe\">\n",
              "  <thead>\n",
              "    <tr style=\"text-align: right;\">\n",
              "      <th></th>\n",
              "      <th>channel_name</th>\n",
              "      <th>category</th>\n",
              "      <th>Sub-category</th>\n",
              "      <th>Issue_reported at</th>\n",
              "      <th>issue_responded</th>\n",
              "      <th>Survey_response_Date</th>\n",
              "      <th>Agent_name</th>\n",
              "      <th>Supervisor</th>\n",
              "      <th>Manager</th>\n",
              "      <th>Tenure Bucket</th>\n",
              "      <th>Agent Shift</th>\n",
              "      <th>CSAT Score</th>\n",
              "    </tr>\n",
              "  </thead>\n",
              "  <tbody>\n",
              "    <tr>\n",
              "      <th>0</th>\n",
              "      <td>Outcall</td>\n",
              "      <td>Product Queries</td>\n",
              "      <td>Life Insurance</td>\n",
              "      <td>01/08/2023 11:13</td>\n",
              "      <td>01/08/2023 11:47</td>\n",
              "      <td>01-Aug-23</td>\n",
              "      <td>Richard Buchanan</td>\n",
              "      <td>Mason Gupta</td>\n",
              "      <td>Jennifer Nguyen</td>\n",
              "      <td>On Job Training</td>\n",
              "      <td>Morning</td>\n",
              "      <td>5</td>\n",
              "    </tr>\n",
              "    <tr>\n",
              "      <th>1</th>\n",
              "      <td>Outcall</td>\n",
              "      <td>Product Queries</td>\n",
              "      <td>Product Specific Information</td>\n",
              "      <td>01/08/2023 12:52</td>\n",
              "      <td>01/08/2023 12:54</td>\n",
              "      <td>01-Aug-23</td>\n",
              "      <td>Vicki Collins</td>\n",
              "      <td>Dylan Kim</td>\n",
              "      <td>Michael Lee</td>\n",
              "      <td>&gt;90</td>\n",
              "      <td>Morning</td>\n",
              "      <td>5</td>\n",
              "    </tr>\n",
              "    <tr>\n",
              "      <th>2</th>\n",
              "      <td>Inbound</td>\n",
              "      <td>Order Related</td>\n",
              "      <td>Installation/demo</td>\n",
              "      <td>01/08/2023 20:16</td>\n",
              "      <td>01/08/2023 20:38</td>\n",
              "      <td>01-Aug-23</td>\n",
              "      <td>Duane Norman</td>\n",
              "      <td>Jackson Park</td>\n",
              "      <td>William Kim</td>\n",
              "      <td>On Job Training</td>\n",
              "      <td>Evening</td>\n",
              "      <td>5</td>\n",
              "    </tr>\n",
              "    <tr>\n",
              "      <th>3</th>\n",
              "      <td>Inbound</td>\n",
              "      <td>Returns</td>\n",
              "      <td>Reverse Pickup Enquiry</td>\n",
              "      <td>01/08/2023 20:56</td>\n",
              "      <td>01/08/2023 21:16</td>\n",
              "      <td>01-Aug-23</td>\n",
              "      <td>Patrick Flores</td>\n",
              "      <td>Olivia Wang</td>\n",
              "      <td>John Smith</td>\n",
              "      <td>&gt;90</td>\n",
              "      <td>Evening</td>\n",
              "      <td>5</td>\n",
              "    </tr>\n",
              "    <tr>\n",
              "      <th>4</th>\n",
              "      <td>Inbound</td>\n",
              "      <td>Cancellation</td>\n",
              "      <td>Not Needed</td>\n",
              "      <td>01/08/2023 10:30</td>\n",
              "      <td>01/08/2023 10:32</td>\n",
              "      <td>01-Aug-23</td>\n",
              "      <td>Christopher Sanchez</td>\n",
              "      <td>Austin Johnson</td>\n",
              "      <td>Michael Lee</td>\n",
              "      <td>0-30</td>\n",
              "      <td>Morning</td>\n",
              "      <td>5</td>\n",
              "    </tr>\n",
              "  </tbody>\n",
              "</table>\n",
              "</div>\n",
              "    <div class=\"colab-df-buttons\">\n",
              "\n",
              "  <div class=\"colab-df-container\">\n",
              "    <button class=\"colab-df-convert\" onclick=\"convertToInteractive('df-357afcaf-8e00-4054-a031-4a7feb9cb315')\"\n",
              "            title=\"Convert this dataframe to an interactive table.\"\n",
              "            style=\"display:none;\">\n",
              "\n",
              "  <svg xmlns=\"http://www.w3.org/2000/svg\" height=\"24px\" viewBox=\"0 -960 960 960\">\n",
              "    <path d=\"M120-120v-720h720v720H120Zm60-500h600v-160H180v160Zm220 220h160v-160H400v160Zm0 220h160v-160H400v160ZM180-400h160v-160H180v160Zm440 0h160v-160H620v160ZM180-180h160v-160H180v160Zm440 0h160v-160H620v160Z\"/>\n",
              "  </svg>\n",
              "    </button>\n",
              "\n",
              "  <style>\n",
              "    .colab-df-container {\n",
              "      display:flex;\n",
              "      gap: 12px;\n",
              "    }\n",
              "\n",
              "    .colab-df-convert {\n",
              "      background-color: #E8F0FE;\n",
              "      border: none;\n",
              "      border-radius: 50%;\n",
              "      cursor: pointer;\n",
              "      display: none;\n",
              "      fill: #1967D2;\n",
              "      height: 32px;\n",
              "      padding: 0 0 0 0;\n",
              "      width: 32px;\n",
              "    }\n",
              "\n",
              "    .colab-df-convert:hover {\n",
              "      background-color: #E2EBFA;\n",
              "      box-shadow: 0px 1px 2px rgba(60, 64, 67, 0.3), 0px 1px 3px 1px rgba(60, 64, 67, 0.15);\n",
              "      fill: #174EA6;\n",
              "    }\n",
              "\n",
              "    .colab-df-buttons div {\n",
              "      margin-bottom: 4px;\n",
              "    }\n",
              "\n",
              "    [theme=dark] .colab-df-convert {\n",
              "      background-color: #3B4455;\n",
              "      fill: #D2E3FC;\n",
              "    }\n",
              "\n",
              "    [theme=dark] .colab-df-convert:hover {\n",
              "      background-color: #434B5C;\n",
              "      box-shadow: 0px 1px 3px 1px rgba(0, 0, 0, 0.15);\n",
              "      filter: drop-shadow(0px 1px 2px rgba(0, 0, 0, 0.3));\n",
              "      fill: #FFFFFF;\n",
              "    }\n",
              "  </style>\n",
              "\n",
              "    <script>\n",
              "      const buttonEl =\n",
              "        document.querySelector('#df-357afcaf-8e00-4054-a031-4a7feb9cb315 button.colab-df-convert');\n",
              "      buttonEl.style.display =\n",
              "        google.colab.kernel.accessAllowed ? 'block' : 'none';\n",
              "\n",
              "      async function convertToInteractive(key) {\n",
              "        const element = document.querySelector('#df-357afcaf-8e00-4054-a031-4a7feb9cb315');\n",
              "        const dataTable =\n",
              "          await google.colab.kernel.invokeFunction('convertToInteractive',\n",
              "                                                    [key], {});\n",
              "        if (!dataTable) return;\n",
              "\n",
              "        const docLinkHtml = 'Like what you see? Visit the ' +\n",
              "          '<a target=\"_blank\" href=https://colab.research.google.com/notebooks/data_table.ipynb>data table notebook</a>'\n",
              "          + ' to learn more about interactive tables.';\n",
              "        element.innerHTML = '';\n",
              "        dataTable['output_type'] = 'display_data';\n",
              "        await google.colab.output.renderOutput(dataTable, element);\n",
              "        const docLink = document.createElement('div');\n",
              "        docLink.innerHTML = docLinkHtml;\n",
              "        element.appendChild(docLink);\n",
              "      }\n",
              "    </script>\n",
              "  </div>\n",
              "\n",
              "\n",
              "<div id=\"df-fa81d57a-131f-4c99-ba33-a6c1b3349003\">\n",
              "  <button class=\"colab-df-quickchart\" onclick=\"quickchart('df-fa81d57a-131f-4c99-ba33-a6c1b3349003')\"\n",
              "            title=\"Suggest charts\"\n",
              "            style=\"display:none;\">\n",
              "\n",
              "<svg xmlns=\"http://www.w3.org/2000/svg\" height=\"24px\"viewBox=\"0 0 24 24\"\n",
              "     width=\"24px\">\n",
              "    <g>\n",
              "        <path d=\"M19 3H5c-1.1 0-2 .9-2 2v14c0 1.1.9 2 2 2h14c1.1 0 2-.9 2-2V5c0-1.1-.9-2-2-2zM9 17H7v-7h2v7zm4 0h-2V7h2v10zm4 0h-2v-4h2v4z\"/>\n",
              "    </g>\n",
              "</svg>\n",
              "  </button>\n",
              "\n",
              "<style>\n",
              "  .colab-df-quickchart {\n",
              "      --bg-color: #E8F0FE;\n",
              "      --fill-color: #1967D2;\n",
              "      --hover-bg-color: #E2EBFA;\n",
              "      --hover-fill-color: #174EA6;\n",
              "      --disabled-fill-color: #AAA;\n",
              "      --disabled-bg-color: #DDD;\n",
              "  }\n",
              "\n",
              "  [theme=dark] .colab-df-quickchart {\n",
              "      --bg-color: #3B4455;\n",
              "      --fill-color: #D2E3FC;\n",
              "      --hover-bg-color: #434B5C;\n",
              "      --hover-fill-color: #FFFFFF;\n",
              "      --disabled-bg-color: #3B4455;\n",
              "      --disabled-fill-color: #666;\n",
              "  }\n",
              "\n",
              "  .colab-df-quickchart {\n",
              "    background-color: var(--bg-color);\n",
              "    border: none;\n",
              "    border-radius: 50%;\n",
              "    cursor: pointer;\n",
              "    display: none;\n",
              "    fill: var(--fill-color);\n",
              "    height: 32px;\n",
              "    padding: 0;\n",
              "    width: 32px;\n",
              "  }\n",
              "\n",
              "  .colab-df-quickchart:hover {\n",
              "    background-color: var(--hover-bg-color);\n",
              "    box-shadow: 0 1px 2px rgba(60, 64, 67, 0.3), 0 1px 3px 1px rgba(60, 64, 67, 0.15);\n",
              "    fill: var(--button-hover-fill-color);\n",
              "  }\n",
              "\n",
              "  .colab-df-quickchart-complete:disabled,\n",
              "  .colab-df-quickchart-complete:disabled:hover {\n",
              "    background-color: var(--disabled-bg-color);\n",
              "    fill: var(--disabled-fill-color);\n",
              "    box-shadow: none;\n",
              "  }\n",
              "\n",
              "  .colab-df-spinner {\n",
              "    border: 2px solid var(--fill-color);\n",
              "    border-color: transparent;\n",
              "    border-bottom-color: var(--fill-color);\n",
              "    animation:\n",
              "      spin 1s steps(1) infinite;\n",
              "  }\n",
              "\n",
              "  @keyframes spin {\n",
              "    0% {\n",
              "      border-color: transparent;\n",
              "      border-bottom-color: var(--fill-color);\n",
              "      border-left-color: var(--fill-color);\n",
              "    }\n",
              "    20% {\n",
              "      border-color: transparent;\n",
              "      border-left-color: var(--fill-color);\n",
              "      border-top-color: var(--fill-color);\n",
              "    }\n",
              "    30% {\n",
              "      border-color: transparent;\n",
              "      border-left-color: var(--fill-color);\n",
              "      border-top-color: var(--fill-color);\n",
              "      border-right-color: var(--fill-color);\n",
              "    }\n",
              "    40% {\n",
              "      border-color: transparent;\n",
              "      border-right-color: var(--fill-color);\n",
              "      border-top-color: var(--fill-color);\n",
              "    }\n",
              "    60% {\n",
              "      border-color: transparent;\n",
              "      border-right-color: var(--fill-color);\n",
              "    }\n",
              "    80% {\n",
              "      border-color: transparent;\n",
              "      border-right-color: var(--fill-color);\n",
              "      border-bottom-color: var(--fill-color);\n",
              "    }\n",
              "    90% {\n",
              "      border-color: transparent;\n",
              "      border-bottom-color: var(--fill-color);\n",
              "    }\n",
              "  }\n",
              "</style>\n",
              "\n",
              "  <script>\n",
              "    async function quickchart(key) {\n",
              "      const quickchartButtonEl =\n",
              "        document.querySelector('#' + key + ' button');\n",
              "      quickchartButtonEl.disabled = true;  // To prevent multiple clicks.\n",
              "      quickchartButtonEl.classList.add('colab-df-spinner');\n",
              "      try {\n",
              "        const charts = await google.colab.kernel.invokeFunction(\n",
              "            'suggestCharts', [key], {});\n",
              "      } catch (error) {\n",
              "        console.error('Error during call to suggestCharts:', error);\n",
              "      }\n",
              "      quickchartButtonEl.classList.remove('colab-df-spinner');\n",
              "      quickchartButtonEl.classList.add('colab-df-quickchart-complete');\n",
              "    }\n",
              "    (() => {\n",
              "      let quickchartButtonEl =\n",
              "        document.querySelector('#df-fa81d57a-131f-4c99-ba33-a6c1b3349003 button');\n",
              "      quickchartButtonEl.style.display =\n",
              "        google.colab.kernel.accessAllowed ? 'block' : 'none';\n",
              "    })();\n",
              "  </script>\n",
              "</div>\n",
              "\n",
              "    </div>\n",
              "  </div>\n"
            ],
            "application/vnd.google.colaboratory.intrinsic+json": {
              "type": "dataframe",
              "variable_name": "data",
              "summary": "{\n  \"name\": \"data\",\n  \"rows\": 85907,\n  \"fields\": [\n    {\n      \"column\": \"channel_name\",\n      \"properties\": {\n        \"dtype\": \"category\",\n        \"num_unique_values\": 3,\n        \"samples\": [\n          \"Outcall\",\n          \"Inbound\",\n          \"Email\"\n        ],\n        \"semantic_type\": \"\",\n        \"description\": \"\"\n      }\n    },\n    {\n      \"column\": \"category\",\n      \"properties\": {\n        \"dtype\": \"category\",\n        \"num_unique_values\": 12,\n        \"samples\": [\n          \"Others\",\n          \"Onboarding related\",\n          \"Product Queries\"\n        ],\n        \"semantic_type\": \"\",\n        \"description\": \"\"\n      }\n    },\n    {\n      \"column\": \"Sub-category\",\n      \"properties\": {\n        \"dtype\": \"category\",\n        \"num_unique_values\": 57,\n        \"samples\": [\n          \"Life Insurance\",\n          \"Fraudulent User\",\n          \"Card/EMI\"\n        ],\n        \"semantic_type\": \"\",\n        \"description\": \"\"\n      }\n    },\n    {\n      \"column\": \"Issue_reported at\",\n      \"properties\": {\n        \"dtype\": \"category\",\n        \"num_unique_values\": 30923,\n        \"samples\": [\n          \"26/08/2023 17:45\",\n          \"11/08/2023 01:02\",\n          \"25/08/2023 22:00\"\n        ],\n        \"semantic_type\": \"\",\n        \"description\": \"\"\n      }\n    },\n    {\n      \"column\": \"issue_responded\",\n      \"properties\": {\n        \"dtype\": \"category\",\n        \"num_unique_values\": 30262,\n        \"samples\": [\n          \"11/08/2023 15:20\",\n          \"05/08/2023 23:43\",\n          \"06/08/2023 11:39\"\n        ],\n        \"semantic_type\": \"\",\n        \"description\": \"\"\n      }\n    },\n    {\n      \"column\": \"Survey_response_Date\",\n      \"properties\": {\n        \"dtype\": \"object\",\n        \"num_unique_values\": 31,\n        \"samples\": [\n          \"28-Aug-23\",\n          \"16-Aug-23\",\n          \"24-Aug-23\"\n        ],\n        \"semantic_type\": \"\",\n        \"description\": \"\"\n      }\n    },\n    {\n      \"column\": \"Agent_name\",\n      \"properties\": {\n        \"dtype\": \"category\",\n        \"num_unique_values\": 1371,\n        \"samples\": [\n          \"Kimberly Morris\",\n          \"Russell Ramsey\",\n          \"Joshua Foster\"\n        ],\n        \"semantic_type\": \"\",\n        \"description\": \"\"\n      }\n    },\n    {\n      \"column\": \"Supervisor\",\n      \"properties\": {\n        \"dtype\": \"category\",\n        \"num_unique_values\": 40,\n        \"samples\": [\n          \"Madison Kim\",\n          \"Mia Patel\",\n          \"Logan Lee\"\n        ],\n        \"semantic_type\": \"\",\n        \"description\": \"\"\n      }\n    },\n    {\n      \"column\": \"Manager\",\n      \"properties\": {\n        \"dtype\": \"category\",\n        \"num_unique_values\": 6,\n        \"samples\": [\n          \"Jennifer Nguyen\",\n          \"Michael Lee\",\n          \"Emily Chen\"\n        ],\n        \"semantic_type\": \"\",\n        \"description\": \"\"\n      }\n    },\n    {\n      \"column\": \"Tenure Bucket\",\n      \"properties\": {\n        \"dtype\": \"category\",\n        \"num_unique_values\": 5,\n        \"samples\": [\n          \">90\",\n          \"61-90\",\n          \"0-30\"\n        ],\n        \"semantic_type\": \"\",\n        \"description\": \"\"\n      }\n    },\n    {\n      \"column\": \"Agent Shift\",\n      \"properties\": {\n        \"dtype\": \"category\",\n        \"num_unique_values\": 5,\n        \"samples\": [\n          \"Evening\",\n          \"Night\",\n          \"Split\"\n        ],\n        \"semantic_type\": \"\",\n        \"description\": \"\"\n      }\n    },\n    {\n      \"column\": \"CSAT Score\",\n      \"properties\": {\n        \"dtype\": \"number\",\n        \"std\": 1,\n        \"min\": 1,\n        \"max\": 5,\n        \"num_unique_values\": 5,\n        \"samples\": [\n          4,\n          2,\n          1\n        ],\n        \"semantic_type\": \"\",\n        \"description\": \"\"\n      }\n    }\n  ]\n}"
            }
          },
          "metadata": {},
          "execution_count": 20
        }
      ]
    },
    {
      "cell_type": "code",
      "source": [
        "# Convert the specified columns to datetime\n",
        "data['Issue_reported at'] = pd.to_datetime(data['Issue_reported at'], format='%d/%m/%Y %H:%M')\n",
        "data['issue_responded'] = pd.to_datetime(data['issue_responded'], format='%d/%m/%Y %H:%M')\n",
        "data['Survey_response_Date'] = pd.to_datetime(data['Survey_response_Date'], errors='coerce')\n",
        "\n",
        "# Display the data types to verify the changes\n",
        "print(data.dtypes)"
      ],
      "metadata": {
        "id": "8X98oPW67EXm",
        "colab": {
          "base_uri": "https://localhost:8080/"
        },
        "outputId": "cc6660c5-bed7-4759-f8d5-fe00fae28cd3"
      },
      "execution_count": null,
      "outputs": [
        {
          "output_type": "stream",
          "name": "stdout",
          "text": [
            "channel_name                    object\n",
            "category                        object\n",
            "Sub-category                    object\n",
            "Issue_reported at       datetime64[ns]\n",
            "issue_responded         datetime64[ns]\n",
            "Survey_response_Date    datetime64[ns]\n",
            "Agent_name                      object\n",
            "Supervisor                      object\n",
            "Manager                         object\n",
            "Tenure Bucket                   object\n",
            "Agent Shift                     object\n",
            "CSAT Score                       int64\n",
            "dtype: object\n"
          ]
        }
      ]
    },
    {
      "cell_type": "code",
      "source": [
        "# Calculate the difference in days between 'issue_responded' and 'Issue_reported at'\n",
        "data['issue_resolution_days'] = (data['issue_responded'] - data['Issue_reported at']).dt.days"
      ],
      "metadata": {
        "id": "tWhOnbxtIYc7"
      },
      "execution_count": null,
      "outputs": []
    },
    {
      "cell_type": "code",
      "source": [
        "data['Survey_gap_days'] = (data['Survey_response_Date'] - data['Issue_reported at']).dt.days"
      ],
      "metadata": {
        "id": "T9pz1AVN7DnE"
      },
      "execution_count": null,
      "outputs": []
    },
    {
      "cell_type": "code",
      "source": [
        "count_negative = (data['issue_resolution_days'] < 0).sum()\n",
        "print(\"Number of negative values:\", count_negative)"
      ],
      "metadata": {
        "colab": {
          "base_uri": "https://localhost:8080/"
        },
        "id": "xsmd8zmF9LoM",
        "outputId": "375d9c76-3aec-4975-ed95-eb25185889c9"
      },
      "execution_count": null,
      "outputs": [
        {
          "output_type": "stream",
          "name": "stdout",
          "text": [
            "Number of negative values: 3128\n"
          ]
        }
      ]
    },
    {
      "cell_type": "code",
      "source": [
        "count_negative = (data['Survey_gap_days'] < 0).sum()\n",
        "print(\"Number of negative values:\", count_negative)"
      ],
      "metadata": {
        "colab": {
          "base_uri": "https://localhost:8080/"
        },
        "id": "r6H5-LyE9mXw",
        "outputId": "7740d5fa-e054-4e61-c47e-0280240e7da9"
      },
      "execution_count": null,
      "outputs": [
        {
          "output_type": "stream",
          "name": "stdout",
          "text": [
            "Number of negative values: 78067\n"
          ]
        }
      ]
    },
    {
      "cell_type": "markdown",
      "source": [
        "### What all manipulations have you done and insights you found?"
      ],
      "metadata": {
        "id": "MSa1f5Uengrz"
      }
    },
    {
      "cell_type": "markdown",
      "source": [
        "1) Removed columns containing Id's as they are not relevent for this analysis.\n",
        "\n",
        "2) Removed columns containing null values more than 65% of total data, as imputing such columns would cause change in actual results.\n",
        "\n",
        "3) Converted all the date related columns in datetime datatype format."
      ],
      "metadata": {
        "id": "LbyXE7I1olp8"
      }
    },
    {
      "cell_type": "markdown",
      "source": [
        "## ***4. Data Vizualization, Storytelling & Experimenting with charts : Understand the relationships between variables***"
      ],
      "metadata": {
        "id": "GF8Ens_Soomf"
      }
    },
    {
      "cell_type": "markdown",
      "source": [
        "#### Chart - 1 - Average CSAT Score for each Channel name"
      ],
      "metadata": {
        "id": "0wOQAZs5pc--"
      }
    },
    {
      "cell_type": "code",
      "source": [
        "# Chart - 1 visualization code\n",
        "# Calculate the average CSAT Score by channel_name\n",
        "Score_by_channel = data.groupby('channel_name')['CSAT Score'].mean().reset_index()\n",
        "\n",
        "# Create labels with both channel_name and average CSAT score\n",
        "labels = [f'{row[\"channel_name\"]}: {row[\"CSAT Score\"]:.2f}' for _, row in Score_by_channel.iterrows()]\n",
        "\n",
        "# Plotting the pie chart\n",
        "plt.figure(figsize=(5, 5))\n",
        "plt.pie(Score_by_channel['CSAT Score'], labels=labels, startangle=90, colors=['skyblue', 'lightcoral', 'lightgreen', 'lightyellow', 'lightpink', 'lightgrey'])\n",
        "plt.title('Average CSAT Score Distribution by Channel Name')\n",
        "plt.show()"
      ],
      "metadata": {
        "id": "7v_ESjsspbW7",
        "colab": {
          "base_uri": "https://localhost:8080/"
        },
        "outputId": "d5280f43-543d-447b-da89-3b33a1750de1"
      },
      "execution_count": null,
      "outputs": [
        {
          "output_type": "display_data",
          "data": {
            "text/plain": [
              "<Figure size 500x500 with 1 Axes>"
            ],
            "image/png": "[encoded data removed]"
          },
          "metadata": {}
        }
      ]
    },
    {
      "cell_type": "markdown",
      "source": [
        "##### 1. Why did you pick the specific chart?"
      ],
      "metadata": {
        "id": "K5QZ13OEpz2H"
      }
    },
    {
      "cell_type": "markdown",
      "source": [
        "Pie charts are better suited to visualise small number of categories"
      ],
      "metadata": {
        "id": "XESiWehPqBRc"
      }
    },
    {
      "cell_type": "markdown",
      "source": [
        "##### 2. What is/are the insight(s) found from the chart?"
      ],
      "metadata": {
        "id": "lQ7QKXXCp7Bj"
      }
    },
    {
      "cell_type": "markdown",
      "source": [
        "channel_name outcall has highest average of CSAT Score."
      ],
      "metadata": {
        "id": "C_j1G7yiqdRP"
      }
    },
    {
      "cell_type": "markdown",
      "source": [
        "##### 3. Will the gained insights help creating a positive business impact?\n",
        "Are there any insights that lead to negative growth? Justify with specific reason."
      ],
      "metadata": {
        "id": "448CDAPjqfQr"
      }
    },
    {
      "cell_type": "markdown",
      "source": [
        "Yes, It shows that customer representative proactively calls to customer then customers are more satisfied with customer service."
      ],
      "metadata": {
        "id": "3cspy4FjqxJW"
      }
    },
    {
      "cell_type": "markdown",
      "source": [
        "#### Chart - 2 - Average CSAT Score for each category"
      ],
      "metadata": {
        "id": "KSlN3yHqYklG"
      }
    },
    {
      "cell_type": "code",
      "source": [
        "# Chart - 2 visualization code\n",
        "# Calculate the average CSAT Score by category\n",
        "Score_by_category = data.groupby('category')['CSAT Score'].mean().reset_index()\n",
        "\n",
        "# Create labels with both category and average CSAT score\n",
        "labels = [f'{row[\"category\"]}: {row[\"CSAT Score\"]:.2f}' for _, row in Score_by_category.iterrows()]\n",
        "\n",
        "# Plotting the pie chart\n",
        "plt.figure(figsize=(5, 5))\n",
        "plt.pie(Score_by_category['CSAT Score'], labels=labels, startangle=90, colors=['skyblue', 'lightcoral', 'lightgreen', 'lightyellow', 'lightpink', 'lightgrey'])\n",
        "plt.title('Average CSAT Score Distribution by Category')\n",
        "plt.show()"
      ],
      "metadata": {
        "id": "R4YgtaqtYklH",
        "colab": {
          "base_uri": "https://localhost:8080/"
        },
        "outputId": "bcce49b0-0bb1-43fc-972d-7827571c3415"
      },
      "execution_count": null,
      "outputs": [
        {
          "output_type": "display_data",
          "data": {
            "text/plain": [
              "<Figure size 500x500 with 1 Axes>"
            ],
            "image/png": "[encoded data removed]"
          },
          "metadata": {}
        }
      ]
    },
    {
      "cell_type": "markdown",
      "source": [
        "##### 1. Why did you pick the specific chart?"
      ],
      "metadata": {
        "id": "t6dVpIINYklI"
      }
    },
    {
      "cell_type": "markdown",
      "source": [
        "Pie charts are suitable to visualise distribution of numerical variable across categories."
      ],
      "metadata": {
        "id": "5aaW0BYyYklI"
      }
    },
    {
      "cell_type": "markdown",
      "source": [
        "##### 2. What is/are the insight(s) found from the chart?"
      ],
      "metadata": {
        "id": "ijmpgYnKYklI"
      }
    },
    {
      "cell_type": "markdown",
      "source": [
        "App/website category have higher CSAT Score."
      ],
      "metadata": {
        "id": "PSx9atu2YklI"
      }
    },
    {
      "cell_type": "markdown",
      "source": [
        "##### 3. Will the gained insights help creating a positive business impact?\n",
        "Are there any insights that lead to negative growth? Justify with specific reason."
      ],
      "metadata": {
        "id": "-JiQyfWJYklI"
      }
    },
    {
      "cell_type": "markdown",
      "source": [
        "No, This insights not much useful for business."
      ],
      "metadata": {
        "id": "BcBbebzrYklV"
      }
    },
    {
      "cell_type": "markdown",
      "source": [
        "#### Chart - 3 - Average CSAT Score by Subcategory"
      ],
      "metadata": {
        "id": "EM7whBJCYoAo"
      }
    },
    {
      "cell_type": "code",
      "source": [
        "# Chart - 3 visualization code\n",
        "# Calculate the average CSAT Score by Sub-category\n",
        "Score_by_subcategory = data.groupby('Sub-category')['CSAT Score'].mean().reset_index()\n",
        "\n",
        "# Sort the DataFrame by CSAT Score in descending order and select the top 5 sub-categories\n",
        "top_5_subcategories = Score_by_subcategory.sort_values(by='CSAT Score', ascending=False).head(5)\n",
        "\n",
        "# Plotting the bar graph for the top 5 sub-categories\n",
        "plt.figure(figsize=(12, 6))\n",
        "sns.barplot(x='Sub-category', y='CSAT Score', data=top_5_subcategories, palette='viridis')\n",
        "plt.title('Top 5 Sub-categories by Average CSAT Score')\n",
        "plt.xlabel('Sub-category')\n",
        "plt.ylabel('Average CSAT Score')\n",
        "plt.xticks(rotation=45)  # Rotate x-axis labels for better readability\n",
        "plt.show()"
      ],
      "metadata": {
        "id": "t6GMdE67YoAp",
        "colab": {
          "base_uri": "https://localhost:8080/"
        },
        "outputId": "a7a05333-ce99-45a5-9d94-a47de8636de4"
      },
      "execution_count": null,
      "outputs": [
        {
          "output_type": "display_data",
          "data": {
            "text/plain": [
              "<Figure size 1200x600 with 1 Axes>"
            ],
            "image/png": "[encoded data removed]"
          },
          "metadata": {}
        }
      ]
    },
    {
      "cell_type": "markdown",
      "source": [
        "##### 1. Why did you pick the specific chart?"
      ],
      "metadata": {
        "id": "fge-S5ZAYoAp"
      }
    },
    {
      "cell_type": "markdown",
      "source": [
        "Bar graphs are better way to visualise categorical variables."
      ],
      "metadata": {
        "id": "5dBItgRVYoAp"
      }
    },
    {
      "cell_type": "markdown",
      "source": [
        "##### 2. What is/are the insight(s) found from the chart?"
      ],
      "metadata": {
        "id": "85gYPyotYoAp"
      }
    },
    {
      "cell_type": "markdown",
      "source": [
        "Non Order related issues have higher average CSAT Score."
      ],
      "metadata": {
        "id": "4jstXR6OYoAp"
      }
    },
    {
      "cell_type": "markdown",
      "source": [
        "##### 3. Will the gained insights help creating a positive business impact?\n",
        "Are there any insights that lead to negative growth? Justify with specific reason."
      ],
      "metadata": {
        "id": "RoGjAbkUYoAp"
      }
    },
    {
      "cell_type": "markdown",
      "source": [
        "No."
      ],
      "metadata": {
        "id": "zfJ8IqMcYoAp"
      }
    },
    {
      "cell_type": "markdown",
      "source": [
        "#### Chart - 4 - Average CSAT Score by No. of days it took to resolve issue"
      ],
      "metadata": {
        "id": "4Of9eVA-YrdM"
      }
    },
    {
      "cell_type": "code",
      "source": [
        "# Chart - 4 visualization code\n",
        "\n",
        "# Calculate the average CSAT Score by issue resolution days\n",
        "Score_by_resolution_days = data.groupby('issue_resolution_days')['CSAT Score'].mean().reset_index()\n",
        "\n",
        "# Plotting the bar graph for issue resolution days\n",
        "plt.figure(figsize=(12, 6))\n",
        "sns.barplot(x='issue_resolution_days', y='CSAT Score', data=Score_by_resolution_days, palette='viridis')\n",
        "plt.title('Average CSAT Score by Issue Resolution Days')\n",
        "plt.xlabel('Issue Resolution Days')\n",
        "plt.ylabel('Average CSAT Score')\n",
        "plt.xticks(rotation=45)  # Rotate x-axis labels for better readability if necessary\n",
        "plt.show()"
      ],
      "metadata": {
        "id": "irlUoxc8YrdO",
        "colab": {
          "base_uri": "https://localhost:8080/"
        },
        "outputId": "f83d7281-3971-448f-cbdf-f67f74b0ebd7"
      },
      "execution_count": null,
      "outputs": [
        {
          "output_type": "display_data",
          "data": {
            "text/plain": [
              "<Figure size 1200x600 with 1 Axes>"
            ],
            "image/png": "[encoded data removed]"
          },
          "metadata": {}
        }
      ]
    },
    {
      "cell_type": "markdown",
      "source": [
        "##### 1. Why did you pick the specific chart?"
      ],
      "metadata": {
        "id": "iky9q4vBYrdO"
      }
    },
    {
      "cell_type": "markdown",
      "source": [
        "Bar graphs are better in visualisation of categorical variables."
      ],
      "metadata": {
        "id": "aJRCwT6DYrdO"
      }
    },
    {
      "cell_type": "markdown",
      "source": [
        "##### 2. What is/are the insight(s) found from the chart?"
      ],
      "metadata": {
        "id": "F6T5p64dYrdO"
      }
    },
    {
      "cell_type": "markdown",
      "source": [
        "Issues which were resolved on same day shows higher CSAT Score."
      ],
      "metadata": {
        "id": "Xx8WAJvtYrdO"
      }
    },
    {
      "cell_type": "markdown",
      "source": [
        "##### 3. Will the gained insights help creating a positive business impact?\n",
        "Are there any insights that lead to negative growth? Justify with specific reason."
      ],
      "metadata": {
        "id": "y-Ehk30pYrdP"
      }
    },
    {
      "cell_type": "markdown",
      "source": [
        "Yes, Same day issue resolution or quick issue resolution will help in better CSAT Score."
      ],
      "metadata": {
        "id": "jLNxxz7MYrdP"
      }
    },
    {
      "cell_type": "markdown",
      "source": [
        "#### Chart - 5 - Average CSAT Score by Agent Name"
      ],
      "metadata": {
        "id": "bamQiAODYuh1"
      }
    },
    {
      "cell_type": "code",
      "source": [
        "# Calculate the average CSAT Score by Agent_name\n",
        "Score_by_agent = data.groupby('Agent_name')['CSAT Score'].mean().reset_index()\n",
        "\n",
        "# Sort the DataFrame by CSAT Score in descending order and select the top 5 agents\n",
        "top_5_agents = Score_by_agent.sort_values(by='CSAT Score', ascending=False).head(5)\n",
        "\n",
        "# Filter the original data to include only the top 5 agents\n",
        "data_top_5_agents = data[data['Agent_name'].isin(top_5_agents['Agent_name'])]\n",
        "\n",
        "# Plotting the violin plot for top 5 agents\n",
        "plt.figure(figsize=(12, 6))\n",
        "sns.violinplot(x='Agent_name', y='CSAT Score', data=data_top_5_agents, palette='viridis')\n",
        "plt.title('Top 5 Agents by Average CSAT Score')\n",
        "plt.xlabel('Agent Name')\n",
        "plt.ylabel('CSAT Score')\n",
        "plt.xticks(rotation=45)  # Rotate x-axis labels for better readability if necessary\n",
        "plt.show()"
      ],
      "metadata": {
        "id": "TIJwrbroYuh3",
        "colab": {
          "base_uri": "https://localhost:8080/"
        },
        "outputId": "0a05be66-8bf4-4633-e55b-79a5863c1bdf"
      },
      "execution_count": null,
      "outputs": [
        {
          "output_type": "display_data",
          "data": {
            "text/plain": [
              "<Figure size 1200x600 with 1 Axes>"
            ],
            "image/png": "[encoded data removed]"
          },
          "metadata": {}
        }
      ]
    },
    {
      "cell_type": "markdown",
      "source": [
        "##### 1. Why did you pick the specific chart?"
      ],
      "metadata": {
        "id": "QHF8YVU7Yuh3"
      }
    },
    {
      "cell_type": "markdown",
      "source": [
        "Violin plots are better way of visualising categorical variables."
      ],
      "metadata": {
        "id": "dcxuIMRPYuh3"
      }
    },
    {
      "cell_type": "markdown",
      "source": [
        "##### 2. What is/are the insight(s) found from the chart?"
      ],
      "metadata": {
        "id": "GwzvFGzlYuh3"
      }
    },
    {
      "cell_type": "markdown",
      "source": [
        "Above plot shows top performing agents, this agents have helped in g etting higher CSAT Score"
      ],
      "metadata": {
        "id": "uyqkiB8YYuh3"
      }
    },
    {
      "cell_type": "markdown",
      "source": [
        "##### 3. Will the gained insights help creating a positive business impact?\n",
        "Are there any insights that lead to negative growth? Justify with specific reason."
      ],
      "metadata": {
        "id": "qYpmQ266Yuh3"
      }
    },
    {
      "cell_type": "markdown",
      "source": [
        "Yes, Above five agents can be examples for other agents and there performance can be improved."
      ],
      "metadata": {
        "id": "_WtzZ_hCYuh4"
      }
    },
    {
      "cell_type": "markdown",
      "source": [
        "#### Chart - 6 - Average CSAT Score by Supervisor"
      ],
      "metadata": {
        "id": "OH-pJp9IphqM"
      }
    },
    {
      "cell_type": "code",
      "source": [
        "# Chart - 6 visualization code\n",
        "# Calculate the average CSAT Score by Supervisor\n",
        "Score_by_supervisor = data.groupby('Supervisor')['CSAT Score'].mean().reset_index()\n",
        "\n",
        "# Sort the DataFrame by CSAT Score in descending order and select the top 5 supervisors\n",
        "top_5_supervisors = Score_by_supervisor.sort_values(by='CSAT Score', ascending=False).head(5)\n",
        "\n",
        "# Filter the original data to include only the top 5 supervisors\n",
        "data_top_5_supervisors = data[data['Supervisor'].isin(top_5_supervisors['Supervisor'])]\n",
        "\n",
        "# Plotting the violin plot for top 5 supervisors\n",
        "plt.figure(figsize=(12, 6))\n",
        "sns.violinplot(x='Supervisor', y='CSAT Score', data=data_top_5_supervisors, palette='viridis')\n",
        "plt.title('Top 5 Supervisors by Average CSAT Score')\n",
        "plt.xlabel('Supervisor')\n",
        "plt.ylabel('CSAT Score')\n",
        "plt.xticks(rotation=45)  # Rotate x-axis labels for better readability if necessary\n",
        "plt.show()"
      ],
      "metadata": {
        "id": "kuRf4wtuphqN",
        "colab": {
          "base_uri": "https://localhost:8080/"
        },
        "outputId": "b3188a58-5458-4b5c-d1de-009fbab4b4cc"
      },
      "execution_count": null,
      "outputs": [
        {
          "output_type": "display_data",
          "data": {
            "text/plain": [
              "<Figure size 1200x600 with 1 Axes>"
            ],
            "image/png": "[encoded data removed]"
          },
          "metadata": {}
        }
      ]
    },
    {
      "cell_type": "markdown",
      "source": [
        "##### 1. Why did you pick the specific chart?"
      ],
      "metadata": {
        "id": "bbFf2-_FphqN"
      }
    },
    {
      "cell_type": "markdown",
      "source": [
        "Violin Plots provide better way to visualise categorical variables."
      ],
      "metadata": {
        "id": "loh7H2nzphqN"
      }
    },
    {
      "cell_type": "markdown",
      "source": [
        "##### 2. What is/are the insight(s) found from the chart?"
      ],
      "metadata": {
        "id": "_ouA3fa0phqN"
      }
    },
    {
      "cell_type": "markdown",
      "source": [
        "Above mentioned supervisors are top performing supervisors, there supervision better than other supervisors."
      ],
      "metadata": {
        "id": "VECbqPI7phqN"
      }
    },
    {
      "cell_type": "markdown",
      "source": [
        "##### 3. Will the gained insights help creating a positive business impact?\n",
        "Are there any insights that lead to negative growth? Justify with specific reason."
      ],
      "metadata": {
        "id": "Seke61FWphqN"
      }
    },
    {
      "cell_type": "markdown",
      "source": [
        "Yes, This can set benchmark for supervisor's performance."
      ],
      "metadata": {
        "id": "DW4_bGpfphqN"
      }
    },
    {
      "cell_type": "markdown",
      "source": [
        "#### Chart - 7 - Average CSAT Score by Manager"
      ],
      "metadata": {
        "id": "PIIx-8_IphqN"
      }
    },
    {
      "cell_type": "code",
      "source": [
        "# Chart - 7 visualization code\n",
        "# Calculate the average CSAT Score by Manager\n",
        "Score_by_manager = data.groupby('Manager')['CSAT Score'].mean().reset_index()\n",
        "\n",
        "# Sort the DataFrame by CSAT Score in descending order and select the top 5 managers\n",
        "top_5_managers = Score_by_manager.sort_values(by='CSAT Score', ascending=False).head(5)\n",
        "\n",
        "# Plotting the scatter plot for top 5 managers\n",
        "plt.figure(figsize=(10, 6))\n",
        "plt.scatter(top_5_managers['Manager'], top_5_managers['CSAT Score'], color='blue', s=100)\n",
        "\n",
        "# Adding annotations for each point\n",
        "for i in range(top_5_managers.shape[0]):\n",
        "    plt.text(top_5_managers['Manager'].iloc[i], top_5_managers['CSAT Score'].iloc[i] + 0.02,\n",
        "             f\"{top_5_managers['CSAT Score'].iloc[i]:.2f}\",\n",
        "             horizontalalignment='center', size='medium', color='black', weight='semibold')\n",
        "\n",
        "plt.title('Top 5 Managers by Average CSAT Score')\n",
        "plt.xlabel('Manager')\n",
        "plt.ylabel('Average CSAT Score')\n",
        "plt.xticks(rotation=45)  # Rotate x-axis labels for better readability if necessary\n",
        "plt.grid(True)\n",
        "plt.show()"
      ],
      "metadata": {
        "id": "lqAIGUfyphqO",
        "colab": {
          "base_uri": "https://localhost:8080/"
        },
        "outputId": "7b586759-0892-4b9b-bc44-994294d7e87a"
      },
      "execution_count": null,
      "outputs": [
        {
          "output_type": "display_data",
          "data": {
            "text/plain": [
              "<Figure size 1000x600 with 1 Axes>"
            ],
            "image/png": "[encoded data removed]"
          },
          "metadata": {}
        }
      ]
    },
    {
      "cell_type": "markdown",
      "source": [
        "##### 1. Why did you pick the specific chart?"
      ],
      "metadata": {
        "id": "t27r6nlMphqO"
      }
    },
    {
      "cell_type": "markdown",
      "source": [
        "Scatter plot can be great tool to visualise distribution of data."
      ],
      "metadata": {
        "id": "iv6ro40sphqO"
      }
    },
    {
      "cell_type": "markdown",
      "source": [
        "##### 2. What is/are the insight(s) found from the chart?"
      ],
      "metadata": {
        "id": "r2jJGEOYphqO"
      }
    },
    {
      "cell_type": "markdown",
      "source": [
        "Above mentioned are top performing managers and their management skill better than others."
      ],
      "metadata": {
        "id": "Po6ZPi4hphqO"
      }
    },
    {
      "cell_type": "markdown",
      "source": [
        "##### 3. Will the gained insights help creating a positive business impact?\n",
        "Are there any insights that lead to negative growth? Justify with specific reason."
      ],
      "metadata": {
        "id": "b0JNsNcRphqO"
      }
    },
    {
      "cell_type": "markdown",
      "source": [
        "This can be set as benchmark for performance of managers."
      ],
      "metadata": {
        "id": "xvSq8iUTphqO"
      }
    },
    {
      "cell_type": "markdown",
      "source": [
        "#### Chart - 8 - Average CSAT Score by Tenure Bucket"
      ],
      "metadata": {
        "id": "BZR9WyysphqO"
      }
    },
    {
      "cell_type": "code",
      "source": [
        "# Chart - 8 visualization code\n",
        "# Calculate the average CSAT Score by Tenure Bucket\n",
        "Score_by_tenure = data.groupby('Tenure Bucket')['CSAT Score'].mean().reset_index()\n",
        "\n",
        "# Plotting the scatter plot for average CSAT score by Tenure Bucket\n",
        "plt.figure(figsize=(10, 6))\n",
        "plt.scatter(Score_by_tenure['Tenure Bucket'], Score_by_tenure['CSAT Score'], color='blue', s=100)\n",
        "\n",
        "# Adding annotations for each point\n",
        "for i in range(Score_by_tenure.shape[0]):\n",
        "    plt.text(Score_by_tenure['Tenure Bucket'].iloc[i], Score_by_tenure['CSAT Score'].iloc[i] + 0.02,\n",
        "             f\"{Score_by_tenure['CSAT Score'].iloc[i]:.2f}\",\n",
        "             horizontalalignment='center', size='medium', color='black', weight='semibold')\n",
        "\n",
        "plt.title('Average CSAT Score by Tenure Bucket')\n",
        "plt.xlabel('Tenure Bucket')\n",
        "plt.ylabel('Average CSAT Score')\n",
        "plt.xticks(rotation=45)  # Rotate x-axis labels for better readability if necessary\n",
        "plt.grid(True)\n",
        "plt.show()"
      ],
      "metadata": {
        "id": "TdPTWpAVphqO",
        "colab": {
          "base_uri": "https://localhost:8080/"
        },
        "outputId": "ea76d51b-77db-491a-8eb9-40378718ef44"
      },
      "execution_count": null,
      "outputs": [
        {
          "output_type": "display_data",
          "data": {
            "text/plain": [
              "<Figure size 1000x600 with 1 Axes>"
            ],
            "image/png": "[encoded data removed]"
          },
          "metadata": {}
        }
      ]
    },
    {
      "cell_type": "markdown",
      "source": [
        "##### 1. Why did you pick the specific chart?"
      ],
      "metadata": {
        "id": "jj7wYXLtphqO"
      }
    },
    {
      "cell_type": "markdown",
      "source": [
        "Scatter Plots can be a great way to plot distribution or averages across categories."
      ],
      "metadata": {
        "id": "Ob8u6rCTphqO"
      }
    },
    {
      "cell_type": "markdown",
      "source": [
        "##### 2. What is/are the insight(s) found from the chart?"
      ],
      "metadata": {
        "id": "eZrbJ2SmphqO"
      }
    },
    {
      "cell_type": "markdown",
      "source": [
        "Employees who completed tenure of 61-90 days shows higher performance in terms of CSAT Score."
      ],
      "metadata": {
        "id": "mZtgC_hjphqO"
      }
    },
    {
      "cell_type": "markdown",
      "source": [
        "##### 3. Will the gained insights help creating a positive business impact?\n",
        "Are there any insights that lead to negative growth? Justify with specific reason."
      ],
      "metadata": {
        "id": "rFu4xreNphqO"
      }
    },
    {
      "cell_type": "markdown",
      "source": [
        "Yes, Agents/employees who completed tenure greater than 60 days perform well hence company can manage resources accordingly."
      ],
      "metadata": {
        "id": "ey_0qi68phqO"
      }
    },
    {
      "cell_type": "markdown",
      "source": [
        "#### Chart - 9 - Average CSAT Score by Agent Shift"
      ],
      "metadata": {
        "id": "YJ55k-q6phqO"
      }
    },
    {
      "cell_type": "code",
      "source": [
        "# Chart - 9 visualization code\n",
        "# Calculate the average CSAT Score by Agent Shift\n",
        "Score_by_shift = data.groupby('Agent Shift')['CSAT Score'].mean().reset_index()\n",
        "\n",
        "# Plotting the horizontal bar plot for average CSAT score by Agent Shift\n",
        "plt.figure(figsize=(12, 6))\n",
        "bars = plt.barh(Score_by_shift['Agent Shift'], Score_by_shift['CSAT Score'], color='skyblue')\n",
        "\n",
        "# Adding annotations for each bar\n",
        "for index, value in enumerate(Score_by_shift['CSAT Score']):\n",
        "    plt.text(value, index, f\"{value:.2f}\", va='center', ha='left', fontsize=10, color='black')\n",
        "\n",
        "plt.title('Average CSAT Score by Agent Shift')\n",
        "plt.xlabel('Average CSAT Score')\n",
        "plt.ylabel('Agent Shift')\n",
        "plt.grid(axis='x', linestyle='--', alpha=0.7)  # Adding gridlines for better readability\n",
        "plt.show()"
      ],
      "metadata": {
        "id": "B2aS4O1ophqO",
        "colab": {
          "base_uri": "https://localhost:8080/"
        },
        "outputId": "22fc9a1e-611a-4d23-88d1-223860c91bff"
      },
      "execution_count": null,
      "outputs": [
        {
          "output_type": "display_data",
          "data": {
            "text/plain": [
              "<Figure size 1200x600 with 1 Axes>"
            ],
            "image/png": "[encoded data removed]"
          },
          "metadata": {}
        }
      ]
    },
    {
      "cell_type": "markdown",
      "source": [
        "##### 1. Why did you pick the specific chart?"
      ],
      "metadata": {
        "id": "gCFgpxoyphqP"
      }
    },
    {
      "cell_type": "markdown",
      "source": [
        "Horizontal bar graphs can visualise categorical varibles in better way."
      ],
      "metadata": {
        "id": "TVxDimi2phqP"
      }
    },
    {
      "cell_type": "markdown",
      "source": [
        "##### 2. What is/are the insight(s) found from the chart?"
      ],
      "metadata": {
        "id": "OVtJsKN_phqQ"
      }
    },
    {
      "cell_type": "markdown",
      "source": [
        "Agent who work on splitted shift on an average perform better in terms of CSAT Score."
      ],
      "metadata": {
        "id": "ngGi97qjphqQ"
      }
    },
    {
      "cell_type": "markdown",
      "source": [
        "##### 3. Will the gained insights help creating a positive business impact?\n",
        "Are there any insights that lead to negative growth? Justify with specific reason."
      ],
      "metadata": {
        "id": "lssrdh5qphqQ"
      }
    },
    {
      "cell_type": "markdown",
      "source": [
        "Yes, Company can deploy resources accordingly."
      ],
      "metadata": {
        "id": "tBpY5ekJphqQ"
      }
    },
    {
      "cell_type": "markdown",
      "source": [
        "#### Chart - 14 - Correlation Heatmap"
      ],
      "metadata": {
        "id": "NC_X3p0fY2L0"
      }
    },
    {
      "cell_type": "code",
      "source": [
        "# Select only the numeric columns\n",
        "numeric_data = data.select_dtypes(include=[float, int])\n",
        "\n",
        "# Calculate the correlation matrix\n",
        "correlation_matrix = numeric_data.corr()\n",
        "\n",
        "# Set up the matplotlib figure\n",
        "plt.figure(figsize=(12, 10))\n",
        "\n",
        "# Draw the heatmap\n",
        "sns.heatmap(correlation_matrix, annot=True, fmt=\".2f\", cmap='coolwarm', linewidths=0.5, annot_kws={\"size\": 10})\n",
        "\n",
        "# Add title and axis labels\n",
        "plt.title('Correlation Heatmap')\n",
        "plt.xticks(rotation=45, ha='right')\n",
        "plt.yticks(rotation=0)\n",
        "plt.show()"
      ],
      "metadata": {
        "id": "xyC9zolEZNRQ",
        "colab": {
          "base_uri": "https://localhost:8080/"
        },
        "outputId": "2fb787ba-0d69-41c9-db31-3d4e21229660"
      },
      "execution_count": null,
      "outputs": [
        {
          "output_type": "display_data",
          "data": {
            "text/plain": [
              "<Figure size 1200x1000 with 2 Axes>"
            ],
            "image/png": "[encoded data removed]"
          },
          "metadata": {}
        }
      ]
    },
    {
      "cell_type": "markdown",
      "source": [
        "##### 1. Why did you pick the specific chart?"
      ],
      "metadata": {
        "id": "UV0SzAkaZNRQ"
      }
    },
    {
      "cell_type": "markdown",
      "source": [
        "Correlation heatmap is most widely used to visualise correlation between two variables."
      ],
      "metadata": {
        "id": "DVPuT8LYZNRQ"
      }
    },
    {
      "cell_type": "markdown",
      "source": [
        "##### 2. What is/are the insight(s) found from the chart?"
      ],
      "metadata": {
        "id": "YPEH6qLeZNRQ"
      }
    },
    {
      "cell_type": "markdown",
      "source": [
        "There is only one numerical column in dataset."
      ],
      "metadata": {
        "id": "bfSqtnDqZNRR"
      }
    },
    {
      "cell_type": "markdown",
      "source": [
        "#### Chart - 15 - Pair Plot"
      ],
      "metadata": {
        "id": "q29F0dvdveiT"
      }
    },
    {
      "cell_type": "code",
      "source": [
        "# Pair Plot visualization code\n",
        "# Plotting the pair plot\n",
        "sns.pairplot(data)\n",
        "plt.show()"
      ],
      "metadata": {
        "id": "o58-TEIhveiU",
        "colab": {
          "base_uri": "https://localhost:8080/"
        },
        "outputId": "f9270e1f-da76-4745-f8b7-c0ec591cdcde"
      },
      "execution_count": null,
      "outputs": [
        {
          "output_type": "display_data",
          "data": {
            "text/plain": [
              "<Figure size 750x750 with 12 Axes>"
            ],
            "image/png": "[encoded data removed]"
          },
          "metadata": {}
        }
      ]
    },
    {
      "cell_type": "markdown",
      "source": [
        "## ***5. Hypothesis Testing***"
      ],
      "metadata": {
        "id": "g-ATYxFrGrvw"
      }
    },
    {
      "cell_type": "markdown",
      "source": [
        "### Based on your chart experiments, define three hypothetical statements from the dataset. In the next three questions, perform hypothesis testing to obtain final conclusion about the statements through your code and statistical testing."
      ],
      "metadata": {
        "id": "Yfr_Vlr8HBkt"
      }
    },
    {
      "cell_type": "markdown",
      "source": [
        "Answer Here."
      ],
      "metadata": {
        "id": "-7MS06SUHkB-"
      }
    },
    {
      "cell_type": "markdown",
      "source": [
        "### Hypothetical Statement - 1"
      ],
      "metadata": {
        "id": "8yEUt7NnHlrM"
      }
    },
    {
      "cell_type": "markdown",
      "source": [
        "#### 1. State Your research hypothesis as a null hypothesis and alternate hypothesis."
      ],
      "metadata": {
        "id": "tEA2Xm5dHt1r"
      }
    },
    {
      "cell_type": "markdown",
      "source": [
        "**Null Hypothesis (H₀):** There is no significant difference in the average CSAT scores between morning and evening agent shifts.\n",
        "\n",
        "**Alternative Hypothesis (H₁):** The average CSAT scores differ significantly between morning and evening agent shifts."
      ],
      "metadata": {
        "id": "HI9ZP0laH0D-"
      }
    },
    {
      "cell_type": "markdown",
      "source": [
        "#### 2. Perform an appropriate statistical test."
      ],
      "metadata": {
        "id": "I79__PHVH19G"
      }
    },
    {
      "cell_type": "code",
      "source": [
        "import scipy.stats as stats\n",
        "# Perform Statistical Test to obtain P-Value\n",
        "# Separate CSAT scores for morning and evening shifts\n",
        "morning_csat = data[data['Agent Shift'] == 'Morning']['CSAT Score']\n",
        "evening_csat = data[data['Agent Shift'] == 'Evening']['CSAT Score']\n",
        "\n",
        "# Perform two-sample t-test\n",
        "t_statistic, p_value = stats.ttest_ind(morning_csat, evening_csat)\n",
        "\n",
        "# Print the p-value\n",
        "print(\"P-value:\", p_value)"
      ],
      "metadata": {
        "id": "oZrfquKtyian",
        "colab": {
          "base_uri": "https://localhost:8080/"
        },
        "outputId": "57f47411-dede-4aa2-89b2-591bf5c1d313"
      },
      "execution_count": null,
      "outputs": [
        {
          "output_type": "stream",
          "name": "stdout",
          "text": [
            "P-value: 1.5180343953890737e-17\n"
          ]
        }
      ]
    },
    {
      "cell_type": "markdown",
      "source": [
        "Given that this p-value is extremely small (much smaller than a typical significance level of 0.05), we would reject the null hypothesis. Therefore, we have sufficient evidence to conclude that there is a significant difference in the average CSAT scores between morning and evening agent shifts."
      ],
      "metadata": {
        "id": "rclPXQf3ozCO"
      }
    },
    {
      "cell_type": "markdown",
      "source": [
        "##### Which statistical test have you done to obtain P-Value?"
      ],
      "metadata": {
        "id": "Ou-I18pAyIpj"
      }
    },
    {
      "cell_type": "markdown",
      "source": [
        "Two sample t-test was used to calculate p-value."
      ],
      "metadata": {
        "id": "s2U0kk00ygSB"
      }
    },
    {
      "cell_type": "markdown",
      "source": [
        "##### Why did you choose the specific statistical test?"
      ],
      "metadata": {
        "id": "fF3858GYyt-u"
      }
    },
    {
      "cell_type": "markdown",
      "source": [
        "Because it is widely used method to get p-value."
      ],
      "metadata": {
        "id": "HO4K0gP5y3B4"
      }
    },
    {
      "cell_type": "code",
      "source": [],
      "metadata": {
        "id": "jGpQ7oM9nfF6"
      },
      "execution_count": null,
      "outputs": []
    },
    {
      "cell_type": "markdown",
      "source": [
        "### Hypothetical Statement - 2"
      ],
      "metadata": {
        "id": "4_0_7-oCpUZd"
      }
    },
    {
      "cell_type": "markdown",
      "source": [
        "#### 1. State Your research hypothesis as a null hypothesis and alternate hypothesis."
      ],
      "metadata": {
        "id": "hwyV_J3ipUZe"
      }
    },
    {
      "cell_type": "markdown",
      "source": [
        "**Null Hypothesis (H₀):** There is no significant correlation between the tenure of agents and their average CSAT scores.\n",
        "\n",
        "**Alternative Hypothesis (H₁):** There is a significant correlation between the tenure of agents and their average CSAT scores."
      ],
      "metadata": {
        "id": "FnpLGJ-4pUZe"
      }
    },
    {
      "cell_type": "markdown",
      "source": [
        "#### 2. Perform an appropriate statistical test."
      ],
      "metadata": {
        "id": "3yB-zSqbpUZe"
      }
    },
    {
      "cell_type": "code",
      "source": [
        "from sklearn.preprocessing import LabelEncoder\n",
        "# Encode 'Tenure Bucket' using label encoding\n",
        "label_encoder = LabelEncoder()\n",
        "data['Tenure Bucket Encoded'] = label_encoder.fit_transform(data['Tenure Bucket'])\n",
        "\n",
        "# Calculate Pearson correlation coefficient and p-value\n",
        "correlation_coefficient, p_value = stats.pearsonr(data['Tenure Bucket Encoded'], data['CSAT Score'])\n",
        "\n",
        "# Print the correlation coefficient and p-value\n",
        "print(\"Correlation Coefficient:\", correlation_coefficient)\n",
        "print(\"P-value:\", p_value)"
      ],
      "metadata": {
        "id": "sWxdNTXNpUZe",
        "colab": {
          "base_uri": "https://localhost:8080/"
        },
        "outputId": "bed3a298-0877-4e96-a5d0-438c8f2e5179"
      },
      "execution_count": null,
      "outputs": [
        {
          "output_type": "stream",
          "name": "stdout",
          "text": [
            "Correlation Coefficient: -0.030608324716793766\n",
            "P-value: 2.879182364404216e-19\n"
          ]
        }
      ]
    },
    {
      "cell_type": "code",
      "source": [
        "# prompt: data.drop['Tenure Bucket Encoded']\n",
        "\n",
        "data.drop('Tenure Bucket Encoded', axis=1, inplace=True)\n"
      ],
      "metadata": {
        "id": "Clmxd8nRsIHa"
      },
      "execution_count": null,
      "outputs": []
    },
    {
      "cell_type": "markdown",
      "source": [
        "p value is significantly smaller than 0.05 signifiance level hence null hypothesis is rejected."
      ],
      "metadata": {
        "id": "PBurrZg_rHE2"
      }
    },
    {
      "cell_type": "markdown",
      "source": [
        "##### Which statistical test have you done to obtain P-Value?"
      ],
      "metadata": {
        "id": "dEUvejAfpUZe"
      }
    },
    {
      "cell_type": "markdown",
      "source": [
        "Pearson's correlation coefficient test was used."
      ],
      "metadata": {
        "id": "oLDrPz7HpUZf"
      }
    },
    {
      "cell_type": "markdown",
      "source": [
        "##### Why did you choose the specific statistical test?"
      ],
      "metadata": {
        "id": "Fd15vwWVpUZf"
      }
    },
    {
      "cell_type": "markdown",
      "source": [
        "It is one of the widely used statistical test for hypothesis testing."
      ],
      "metadata": {
        "id": "4xOGYyiBpUZf"
      }
    },
    {
      "cell_type": "markdown",
      "source": [
        "## ***6. Feature Engineering & Data Pre-processing***"
      ],
      "metadata": {
        "id": "yLjJCtPM0KBk"
      }
    },
    {
      "cell_type": "markdown",
      "source": [
        "### 1. Feature Manipulation & Selection"
      ],
      "metadata": {
        "id": "-oLEiFgy-5Pf"
      }
    },
    {
      "cell_type": "markdown",
      "source": [
        "#### 1. Feature Manipulation"
      ],
      "metadata": {
        "id": "C74aWNz2AliB"
      }
    },
    {
      "cell_type": "code",
      "source": [
        "data.columns"
      ],
      "metadata": {
        "colab": {
          "base_uri": "https://localhost:8080/"
        },
        "id": "-GOCzDvs_LmJ",
        "outputId": "6b064437-96d7-4793-af55-e02d1278537d"
      },
      "execution_count": null,
      "outputs": [
        {
          "output_type": "execute_result",
          "data": {
            "text/plain": [
              "Index(['channel_name', 'category', 'Sub-category', 'Issue_reported at',\n",
              "       'issue_responded', 'Survey_response_Date', 'Agent_name', 'Supervisor',\n",
              "       'Manager', 'Tenure Bucket', 'Agent Shift', 'CSAT Score',\n",
              "       'issue_resolution_days', 'Survey_gap_days'],\n",
              "      dtype='object')"
            ]
          },
          "metadata": {},
          "execution_count": 40
        }
      ]
    },
    {
      "cell_type": "code",
      "source": [
        "# Define the mapping\n",
        "mapping = {\n",
        "    -1: 'very quick',\n",
        "    0: 'very quick',\n",
        "    1: 'quick',\n",
        "    2: 'quick',\n",
        "    3: 'slow'\n",
        "}\n",
        "\n",
        "# Apply the mapping\n",
        "data['issue_resolution_category'] = data['issue_resolution_days'].map(mapping)\n",
        "\n",
        "# Delete the original column\n",
        "data.drop('issue_resolution_days', axis=1, inplace=True)"
      ],
      "metadata": {
        "id": "5O4-_ParZ8dv"
      },
      "execution_count": null,
      "outputs": []
    },
    {
      "cell_type": "markdown",
      "source": [
        "#### 2. Feature Selection"
      ],
      "metadata": {
        "id": "2DejudWSA-a0"
      }
    },
    {
      "cell_type": "code",
      "source": [
        "data.drop(['Agent_name', 'Supervisor', 'Manager', 'Issue_reported at', 'issue_responded', 'Survey_response_Date', 'Survey_gap_days', 'Sub-category'], axis=1, inplace=True)"
      ],
      "metadata": {
        "id": "hpXgHBQv4zvq"
      },
      "execution_count": null,
      "outputs": []
    },
    {
      "cell_type": "code",
      "source": [
        "data.head(2)"
      ],
      "metadata": {
        "colab": {
          "base_uri": "https://localhost:8080/",
          "height": 112
        },
        "id": "OhtSLVg20z0z",
        "outputId": "da3c3f66-ff46-4636-ca98-bb2a808e4c8f"
      },
      "execution_count": null,
      "outputs": [
        {
          "output_type": "execute_result",
          "data": {
            "text/plain": [
              "  channel_name         category    Tenure Bucket Agent Shift  CSAT Score  \\\n",
              "0      Outcall  Product Queries  On Job Training     Morning           5   \n",
              "1      Outcall  Product Queries              >90     Morning           5   \n",
              "\n",
              "  issue_resolution_category  \n",
              "0                very quick  \n",
              "1                very quick  "
            ],
            "text/html": [
              "\n",
              "  <div id=\"df-6645424e-be77-4f34-bc17-fc67458d0dcc\" class=\"colab-df-container\">\n",
              "    <div>\n",
              "<style scoped>\n",
              "    .dataframe tbody tr th:only-of-type {\n",
              "        vertical-align: middle;\n",
              "    }\n",
              "\n",
              "    .dataframe tbody tr th {\n",
              "        vertical-align: top;\n",
              "    }\n",
              "\n",
              "    .dataframe thead th {\n",
              "        text-align: right;\n",
              "    }\n",
              "</style>\n",
              "<table border=\"1\" class=\"dataframe\">\n",
              "  <thead>\n",
              "    <tr style=\"text-align: right;\">\n",
              "      <th></th>\n",
              "      <th>channel_name</th>\n",
              "      <th>category</th>\n",
              "      <th>Tenure Bucket</th>\n",
              "      <th>Agent Shift</th>\n",
              "      <th>CSAT Score</th>\n",
              "      <th>issue_resolution_category</th>\n",
              "    </tr>\n",
              "  </thead>\n",
              "  <tbody>\n",
              "    <tr>\n",
              "      <th>0</th>\n",
              "      <td>Outcall</td>\n",
              "      <td>Product Queries</td>\n",
              "      <td>On Job Training</td>\n",
              "      <td>Morning</td>\n",
              "      <td>5</td>\n",
              "      <td>very quick</td>\n",
              "    </tr>\n",
              "    <tr>\n",
              "      <th>1</th>\n",
              "      <td>Outcall</td>\n",
              "      <td>Product Queries</td>\n",
              "      <td>&gt;90</td>\n",
              "      <td>Morning</td>\n",
              "      <td>5</td>\n",
              "      <td>very quick</td>\n",
              "    </tr>\n",
              "  </tbody>\n",
              "</table>\n",
              "</div>\n",
              "    <div class=\"colab-df-buttons\">\n",
              "\n",
              "  <div class=\"colab-df-container\">\n",
              "    <button class=\"colab-df-convert\" onclick=\"convertToInteractive('df-6645424e-be77-4f34-bc17-fc67458d0dcc')\"\n",
              "            title=\"Convert this dataframe to an interactive table.\"\n",
              "            style=\"display:none;\">\n",
              "\n",
              "  <svg xmlns=\"http://www.w3.org/2000/svg\" height=\"24px\" viewBox=\"0 -960 960 960\">\n",
              "    <path d=\"M120-120v-720h720v720H120Zm60-500h600v-160H180v160Zm220 220h160v-160H400v160Zm0 220h160v-160H400v160ZM180-400h160v-160H180v160Zm440 0h160v-160H620v160ZM180-180h160v-160H180v160Zm440 0h160v-160H620v160Z\"/>\n",
              "  </svg>\n",
              "    </button>\n",
              "\n",
              "  <style>\n",
              "    .colab-df-container {\n",
              "      display:flex;\n",
              "      gap: 12px;\n",
              "    }\n",
              "\n",
              "    .colab-df-convert {\n",
              "      background-color: #E8F0FE;\n",
              "      border: none;\n",
              "      border-radius: 50%;\n",
              "      cursor: pointer;\n",
              "      display: none;\n",
              "      fill: #1967D2;\n",
              "      height: 32px;\n",
              "      padding: 0 0 0 0;\n",
              "      width: 32px;\n",
              "    }\n",
              "\n",
              "    .colab-df-convert:hover {\n",
              "      background-color: #E2EBFA;\n",
              "      box-shadow: 0px 1px 2px rgba(60, 64, 67, 0.3), 0px 1px 3px 1px rgba(60, 64, 67, 0.15);\n",
              "      fill: #174EA6;\n",
              "    }\n",
              "\n",
              "    .colab-df-buttons div {\n",
              "      margin-bottom: 4px;\n",
              "    }\n",
              "\n",
              "    [theme=dark] .colab-df-convert {\n",
              "      background-color: #3B4455;\n",
              "      fill: #D2E3FC;\n",
              "    }\n",
              "\n",
              "    [theme=dark] .colab-df-convert:hover {\n",
              "      background-color: #434B5C;\n",
              "      box-shadow: 0px 1px 3px 1px rgba(0, 0, 0, 0.15);\n",
              "      filter: drop-shadow(0px 1px 2px rgba(0, 0, 0, 0.3));\n",
              "      fill: #FFFFFF;\n",
              "    }\n",
              "  </style>\n",
              "\n",
              "    <script>\n",
              "      const buttonEl =\n",
              "        document.querySelector('#df-6645424e-be77-4f34-bc17-fc67458d0dcc button.colab-df-convert');\n",
              "      buttonEl.style.display =\n",
              "        google.colab.kernel.accessAllowed ? 'block' : 'none';\n",
              "\n",
              "      async function convertToInteractive(key) {\n",
              "        const element = document.querySelector('#df-6645424e-be77-4f34-bc17-fc67458d0dcc');\n",
              "        const dataTable =\n",
              "          await google.colab.kernel.invokeFunction('convertToInteractive',\n",
              "                                                    [key], {});\n",
              "        if (!dataTable) return;\n",
              "\n",
              "        const docLinkHtml = 'Like what you see? Visit the ' +\n",
              "          '<a target=\"_blank\" href=https://colab.research.google.com/notebooks/data_table.ipynb>data table notebook</a>'\n",
              "          + ' to learn more about interactive tables.';\n",
              "        element.innerHTML = '';\n",
              "        dataTable['output_type'] = 'display_data';\n",
              "        await google.colab.output.renderOutput(dataTable, element);\n",
              "        const docLink = document.createElement('div');\n",
              "        docLink.innerHTML = docLinkHtml;\n",
              "        element.appendChild(docLink);\n",
              "      }\n",
              "    </script>\n",
              "  </div>\n",
              "\n",
              "\n",
              "<div id=\"df-c6e48b3b-bba6-4ce0-8d41-4aaf28c36388\">\n",
              "  <button class=\"colab-df-quickchart\" onclick=\"quickchart('df-c6e48b3b-bba6-4ce0-8d41-4aaf28c36388')\"\n",
              "            title=\"Suggest charts\"\n",
              "            style=\"display:none;\">\n",
              "\n",
              "<svg xmlns=\"http://www.w3.org/2000/svg\" height=\"24px\"viewBox=\"0 0 24 24\"\n",
              "     width=\"24px\">\n",
              "    <g>\n",
              "        <path d=\"M19 3H5c-1.1 0-2 .9-2 2v14c0 1.1.9 2 2 2h14c1.1 0 2-.9 2-2V5c0-1.1-.9-2-2-2zM9 17H7v-7h2v7zm4 0h-2V7h2v10zm4 0h-2v-4h2v4z\"/>\n",
              "    </g>\n",
              "</svg>\n",
              "  </button>\n",
              "\n",
              "<style>\n",
              "  .colab-df-quickchart {\n",
              "      --bg-color: #E8F0FE;\n",
              "      --fill-color: #1967D2;\n",
              "      --hover-bg-color: #E2EBFA;\n",
              "      --hover-fill-color: #174EA6;\n",
              "      --disabled-fill-color: #AAA;\n",
              "      --disabled-bg-color: #DDD;\n",
              "  }\n",
              "\n",
              "  [theme=dark] .colab-df-quickchart {\n",
              "      --bg-color: #3B4455;\n",
              "      --fill-color: #D2E3FC;\n",
              "      --hover-bg-color: #434B5C;\n",
              "      --hover-fill-color: #FFFFFF;\n",
              "      --disabled-bg-color: #3B4455;\n",
              "      --disabled-fill-color: #666;\n",
              "  }\n",
              "\n",
              "  .colab-df-quickchart {\n",
              "    background-color: var(--bg-color);\n",
              "    border: none;\n",
              "    border-radius: 50%;\n",
              "    cursor: pointer;\n",
              "    display: none;\n",
              "    fill: var(--fill-color);\n",
              "    height: 32px;\n",
              "    padding: 0;\n",
              "    width: 32px;\n",
              "  }\n",
              "\n",
              "  .colab-df-quickchart:hover {\n",
              "    background-color: var(--hover-bg-color);\n",
              "    box-shadow: 0 1px 2px rgba(60, 64, 67, 0.3), 0 1px 3px 1px rgba(60, 64, 67, 0.15);\n",
              "    fill: var(--button-hover-fill-color);\n",
              "  }\n",
              "\n",
              "  .colab-df-quickchart-complete:disabled,\n",
              "  .colab-df-quickchart-complete:disabled:hover {\n",
              "    background-color: var(--disabled-bg-color);\n",
              "    fill: var(--disabled-fill-color);\n",
              "    box-shadow: none;\n",
              "  }\n",
              "\n",
              "  .colab-df-spinner {\n",
              "    border: 2px solid var(--fill-color);\n",
              "    border-color: transparent;\n",
              "    border-bottom-color: var(--fill-color);\n",
              "    animation:\n",
              "      spin 1s steps(1) infinite;\n",
              "  }\n",
              "\n",
              "  @keyframes spin {\n",
              "    0% {\n",
              "      border-color: transparent;\n",
              "      border-bottom-color: var(--fill-color);\n",
              "      border-left-color: var(--fill-color);\n",
              "    }\n",
              "    20% {\n",
              "      border-color: transparent;\n",
              "      border-left-color: var(--fill-color);\n",
              "      border-top-color: var(--fill-color);\n",
              "    }\n",
              "    30% {\n",
              "      border-color: transparent;\n",
              "      border-left-color: var(--fill-color);\n",
              "      border-top-color: var(--fill-color);\n",
              "      border-right-color: var(--fill-color);\n",
              "    }\n",
              "    40% {\n",
              "      border-color: transparent;\n",
              "      border-right-color: var(--fill-color);\n",
              "      border-top-color: var(--fill-color);\n",
              "    }\n",
              "    60% {\n",
              "      border-color: transparent;\n",
              "      border-right-color: var(--fill-color);\n",
              "    }\n",
              "    80% {\n",
              "      border-color: transparent;\n",
              "      border-right-color: var(--fill-color);\n",
              "      border-bottom-color: var(--fill-color);\n",
              "    }\n",
              "    90% {\n",
              "      border-color: transparent;\n",
              "      border-bottom-color: var(--fill-color);\n",
              "    }\n",
              "  }\n",
              "</style>\n",
              "\n",
              "  <script>\n",
              "    async function quickchart(key) {\n",
              "      const quickchartButtonEl =\n",
              "        document.querySelector('#' + key + ' button');\n",
              "      quickchartButtonEl.disabled = true;  // To prevent multiple clicks.\n",
              "      quickchartButtonEl.classList.add('colab-df-spinner');\n",
              "      try {\n",
              "        const charts = await google.colab.kernel.invokeFunction(\n",
              "            'suggestCharts', [key], {});\n",
              "      } catch (error) {\n",
              "        console.error('Error during call to suggestCharts:', error);\n",
              "      }\n",
              "      quickchartButtonEl.classList.remove('colab-df-spinner');\n",
              "      quickchartButtonEl.classList.add('colab-df-quickchart-complete');\n",
              "    }\n",
              "    (() => {\n",
              "      let quickchartButtonEl =\n",
              "        document.querySelector('#df-c6e48b3b-bba6-4ce0-8d41-4aaf28c36388 button');\n",
              "      quickchartButtonEl.style.display =\n",
              "        google.colab.kernel.accessAllowed ? 'block' : 'none';\n",
              "    })();\n",
              "  </script>\n",
              "</div>\n",
              "\n",
              "    </div>\n",
              "  </div>\n"
            ],
            "application/vnd.google.colaboratory.intrinsic+json": {
              "type": "dataframe",
              "variable_name": "data",
              "summary": "{\n  \"name\": \"data\",\n  \"rows\": 85907,\n  \"fields\": [\n    {\n      \"column\": \"channel_name\",\n      \"properties\": {\n        \"dtype\": \"category\",\n        \"num_unique_values\": 3,\n        \"samples\": [\n          \"Outcall\",\n          \"Inbound\",\n          \"Email\"\n        ],\n        \"semantic_type\": \"\",\n        \"description\": \"\"\n      }\n    },\n    {\n      \"column\": \"category\",\n      \"properties\": {\n        \"dtype\": \"category\",\n        \"num_unique_values\": 12,\n        \"samples\": [\n          \"Others\",\n          \"Onboarding related\",\n          \"Product Queries\"\n        ],\n        \"semantic_type\": \"\",\n        \"description\": \"\"\n      }\n    },\n    {\n      \"column\": \"Tenure Bucket\",\n      \"properties\": {\n        \"dtype\": \"category\",\n        \"num_unique_values\": 5,\n        \"samples\": [\n          \">90\",\n          \"61-90\",\n          \"0-30\"\n        ],\n        \"semantic_type\": \"\",\n        \"description\": \"\"\n      }\n    },\n    {\n      \"column\": \"Agent Shift\",\n      \"properties\": {\n        \"dtype\": \"category\",\n        \"num_unique_values\": 5,\n        \"samples\": [\n          \"Evening\",\n          \"Night\",\n          \"Split\"\n        ],\n        \"semantic_type\": \"\",\n        \"description\": \"\"\n      }\n    },\n    {\n      \"column\": \"CSAT Score\",\n      \"properties\": {\n        \"dtype\": \"number\",\n        \"std\": 1,\n        \"min\": 1,\n        \"max\": 5,\n        \"num_unique_values\": 5,\n        \"samples\": [\n          4,\n          2,\n          1\n        ],\n        \"semantic_type\": \"\",\n        \"description\": \"\"\n      }\n    },\n    {\n      \"column\": \"issue_resolution_category\",\n      \"properties\": {\n        \"dtype\": \"category\",\n        \"num_unique_values\": 3,\n        \"samples\": [\n          \"very quick\",\n          \"quick\",\n          \"slow\"\n        ],\n        \"semantic_type\": \"\",\n        \"description\": \"\"\n      }\n    }\n  ]\n}"
            }
          },
          "metadata": {},
          "execution_count": 43
        }
      ]
    },
    {
      "cell_type": "markdown",
      "source": [
        "Also dropping person specific columns like Agent_name, Supervisor and Manager"
      ],
      "metadata": {
        "id": "v9MPGT72t_hv"
      }
    },
    {
      "cell_type": "markdown",
      "source": [
        "##### What all feature selection methods have you used  and why?"
      ],
      "metadata": {
        "id": "pEMng2IbBLp7"
      }
    },
    {
      "cell_type": "markdown",
      "source": [
        "1) Dropped agent name, manager name and supervisor name as name specific analysis would cause model to overfit.\n",
        "\n",
        "2) created new feature as issue resolution days from issue responded and issue reported, which is more relevent here.\n",
        "\n",
        "3) hence dropping all the date columns.\n",
        "\n",
        "4) Survey gap days contains mostly negetive values hence dropping it as well."
      ],
      "metadata": {
        "id": "rb2Lh6Z8BgGs"
      }
    },
    {
      "cell_type": "markdown",
      "source": [
        "##### Which all features you found important and why?"
      ],
      "metadata": {
        "id": "rAdphbQ9Bhjc"
      }
    },
    {
      "cell_type": "markdown",
      "source": [
        "From above data we can observe that all selected features are somewhat important while subcategory seems to be more important."
      ],
      "metadata": {
        "id": "fGgaEstsBnaf"
      }
    },
    {
      "cell_type": "markdown",
      "source": [
        "### 2. Categorical Encoding"
      ],
      "metadata": {
        "id": "89xtkJwZ18nB"
      }
    },
    {
      "cell_type": "code",
      "source": [
        "data = pd.get_dummies(data, columns=['channel_name', 'category', 'Agent Shift', 'Tenure Bucket', 'issue_resolution_category'])"
      ],
      "metadata": {
        "id": "dojlm4PpxPCk"
      },
      "execution_count": null,
      "outputs": []
    },
    {
      "cell_type": "markdown",
      "source": [
        "#### What all categorical encoding techniques have you used & why did you use those techniques?"
      ],
      "metadata": {
        "id": "67NQN5KX2AMe"
      }
    },
    {
      "cell_type": "markdown",
      "source": [
        "Used label encoding for tenure bucket as it is ordinal category while one-hot encoding for the rest."
      ],
      "metadata": {
        "id": "UDaue5h32n_G"
      }
    },
    {
      "cell_type": "markdown",
      "source": [
        "### 8. Data Splitting"
      ],
      "metadata": {
        "id": "BhH2vgX9EjGr"
      }
    },
    {
      "cell_type": "code",
      "source": [
        "from sklearn.model_selection import train_test_split\n",
        "# Split your data to train and test. Choose Splitting ratio wisely.\n",
        "# Define features (X) and target variable (y)\n",
        "X = data.drop(columns=['CSAT Score'])\n",
        "y = data['CSAT Score']\n",
        "\n",
        "# Split the dataset into training and testing sets (70% training, 30% testing)\n",
        "X_train, X_test, y_train, y_test = train_test_split(X, y, test_size=0.3, random_state=42)"
      ],
      "metadata": {
        "id": "0CTyd2UwEyNM"
      },
      "execution_count": null,
      "outputs": []
    },
    {
      "cell_type": "markdown",
      "source": [
        "##### What data splitting ratio have you used and why?"
      ],
      "metadata": {
        "id": "qjKvONjwE8ra"
      }
    },
    {
      "cell_type": "markdown",
      "source": [
        "70:30 ratio was used for training: testing data as it will provide sufficient data for testing."
      ],
      "metadata": {
        "id": "Y2lJ8cobFDb_"
      }
    },
    {
      "cell_type": "markdown",
      "source": [
        "## ***7. ML Model Implementation***"
      ],
      "metadata": {
        "id": "VfCC591jGiD4"
      }
    },
    {
      "cell_type": "markdown",
      "source": [
        "### ML Model - 1 - DecisionTreeClassifier"
      ],
      "metadata": {
        "id": "OB4l2ZhMeS1U"
      }
    },
    {
      "cell_type": "code",
      "source": [
        "# ML Model - 1 Implementation\n",
        "# Initialize the Decision Tree Classifier\n",
        "classifier = DecisionTreeClassifier(random_state=42)\n",
        "\n",
        "# Train the classifier\n",
        "classifier.fit(X_train, y_train)\n",
        "\n",
        "# Predict on the test set\n",
        "y_pred = classifier.predict(X_test)"
      ],
      "metadata": {
        "id": "7ebyywQieS1U"
      },
      "execution_count": null,
      "outputs": []
    },
    {
      "cell_type": "code",
      "source": [
        "# Evaluate the model\n",
        "# Evaluate the classifier\n",
        "accuracy = accuracy_score(y_test, y_pred)\n",
        "report = classification_report(y_test, y_pred)\n",
        "\n",
        "print(f\"Accuracy: {accuracy:.2f}\")\n",
        "print(\"Classification Report:\")\n",
        "print(report)"
      ],
      "metadata": {
        "id": "GwS2UtN3NlLu",
        "colab": {
          "base_uri": "https://localhost:8080/"
        },
        "outputId": "8cd9a324-7dce-43ea-a297-9b86ba3bc60d"
      },
      "execution_count": null,
      "outputs": [
        {
          "output_type": "stream",
          "name": "stdout",
          "text": [
            "Accuracy: 0.69\n",
            "Classification Report:\n",
            "              precision    recall  f1-score   support\n",
            "\n",
            "           1       0.28      0.02      0.04      3321\n",
            "           2       0.00      0.00      0.00       350\n",
            "           3       0.00      0.00      0.00       790\n",
            "           4       0.14      0.00      0.00      3409\n",
            "           5       0.70      0.99      0.82     17903\n",
            "\n",
            "    accuracy                           0.69     25773\n",
            "   macro avg       0.22      0.20      0.17     25773\n",
            "weighted avg       0.54      0.69      0.57     25773\n",
            "\n"
          ]
        }
      ]
    },
    {
      "cell_type": "markdown",
      "source": [
        "### ML Model - 2 - Deep Learning - ANN"
      ],
      "metadata": {
        "id": "Fze-IPXLpx6K"
      }
    },
    {
      "cell_type": "code",
      "source": [
        "from tensorflow.keras.utils import to_categorical\n",
        "# Convert target variable to categorical\n",
        "y_train = to_categorical(y_train)\n",
        "y_test = to_categorical(y_test)\n",
        "\n",
        "# Check the shape after conversion to categorical\n",
        "print(f\"y_train shape after to_categorical: {y_train.shape}\")\n",
        "print(f\"y_test shape after to_categorical: {y_test.shape}\")\n",
        "\n",
        "# Define the ANN model\n",
        "model = Sequential()\n",
        "model.add(Dense(32, input_dim=X_train.shape[1], activation='relu'))  # Hidden layer with 32 neurons\n",
        "model.add(Dense(16, activation='relu'))  # Hidden layer with 16 neurons\n",
        "model.add(Dense(y_train.shape[1], activation='softmax'))  # Output layer with neurons equal to number of classes\n",
        "\n",
        "# Compile the model\n",
        "model.compile(optimizer='adam', loss='categorical_crossentropy', metrics=['accuracy'])\n",
        "\n",
        "# Train the model\n",
        "model.fit(X_train, y_train, epochs=50, batch_size=10, validation_split=0.2)\n",
        "\n",
        "# Predict on the test set\n",
        "y_pred = model.predict(X_test)\n",
        "y_pred_classes = y_pred.argmax(axis=1)\n",
        "y_test_classes = y_test.argmax(axis=1)\n",
        "\n",
        "# Evaluate the classifier\n",
        "accuracy = accuracy_score(y_test_classes, y_pred_classes)\n",
        "report = classification_report(y_test_classes, y_pred_classes)\n",
        "\n",
        "print(f\"Accuracy: {accuracy:.2f}\")\n",
        "print(\"Classification Report:\")\n",
        "print(report)"
      ],
      "metadata": {
        "id": "FFrSXAtrpx6M",
        "colab": {
          "base_uri": "https://localhost:8080/"
        },
        "outputId": "52d4d913-291a-4714-f875-dfa719fd25ad"
      },
      "execution_count": null,
      "outputs": [
        {
          "output_type": "stream",
          "name": "stdout",
          "text": [
            "y_train shape after to_categorical: (60134, 6)\n",
            "y_test shape after to_categorical: (25773, 6)\n",
            "Epoch 1/50\n",
            "\u001b[1m4811/4811\u001b[0m \u001b[32m━━━━━━━━━━━━━━━━━━━━\u001b[0m\u001b[37m\u001b[0m \u001b[1m14s\u001b[0m 2ms/step - accuracy: 0.6915 - loss: 0.9829 - val_accuracy: 0.6929 - val_loss: 0.9524\n",
            "Epoch 2/50\n",
            "\u001b[1m4811/4811\u001b[0m \u001b[32m━━━━━━━━━━━━━━━━━━━━\u001b[0m\u001b[37m\u001b[0m \u001b[1m10s\u001b[0m 2ms/step - accuracy: 0.6913 - loss: 0.9449 - val_accuracy: 0.6933 - val_loss: 0.9465\n",
            "Epoch 3/50\n",
            "\u001b[1m4811/4811\u001b[0m \u001b[32m━━━━━━━━━━━━━━━━━━━━\u001b[0m\u001b[37m\u001b[0m \u001b[1m9s\u001b[0m 2ms/step - accuracy: 0.6919 - loss: 0.9460 - val_accuracy: 0.6930 - val_loss: 0.9482\n",
            "Epoch 4/50\n",
            "\u001b[1m4811/4811\u001b[0m \u001b[32m━━━━━━━━━━━━━━━━━━━━\u001b[0m\u001b[37m\u001b[0m \u001b[1m11s\u001b[0m 2ms/step - accuracy: 0.6950 - loss: 0.9395 - val_accuracy: 0.6931 - val_loss: 0.9490\n",
            "Epoch 5/50\n",
            "\u001b[1m4811/4811\u001b[0m \u001b[32m━━━━━━━━━━━━━━━━━━━━\u001b[0m\u001b[37m\u001b[0m \u001b[1m11s\u001b[0m 2ms/step - accuracy: 0.6965 - loss: 0.9356 - val_accuracy: 0.6932 - val_loss: 0.9484\n",
            "Epoch 6/50\n",
            "\u001b[1m4811/4811\u001b[0m \u001b[32m━━━━━━━━━━━━━━━━━━━━\u001b[0m\u001b[37m\u001b[0m \u001b[1m10s\u001b[0m 2ms/step - accuracy: 0.6972 - loss: 0.9331 - val_accuracy: 0.6933 - val_loss: 0.9482\n",
            "Epoch 9/50\n",
            "\u001b[1m4811/4811\u001b[0m \u001b[32m━━━━━━━━━━━━━━━━━━━━\u001b[0m\u001b[37m\u001b[0m \u001b[1m20s\u001b[0m 4ms/step - accuracy: 0.6936 - loss: 0.9398 - val_accuracy: 0.6933 - val_loss: 0.9499\n",
            "Epoch 10/50\n",
            "\u001b[1m4811/4811\u001b[0m \u001b[32m━━━━━━━━━━━━━━━━━━━━\u001b[0m\u001b[37m\u001b[0m \u001b[1m16s\u001b[0m 3ms/step - accuracy: 0.6944 - loss: 0.9386 - val_accuracy: 0.6928 - val_loss: 0.9505\n",
            "Epoch 11/50\n",
            "\u001b[1m4811/4811\u001b[0m \u001b[32m━━━━━━━━━━━━━━━━━━━━\u001b[0m\u001b[37m\u001b[0m \u001b[1m17s\u001b[0m 3ms/step - accuracy: 0.6967 - loss: 0.9334 - val_accuracy: 0.6922 - val_loss: 0.9508\n",
            "Epoch 12/50\n",
            "\u001b[1m4811/4811\u001b[0m \u001b[32m━━━━━━━━━━━━━━━━━━━━\u001b[0m\u001b[37m\u001b[0m \u001b[1m17s\u001b[0m 2ms/step - accuracy: 0.6952 - loss: 0.9334 - val_accuracy: 0.6929 - val_loss: 0.9485\n",
            "Epoch 13/50\n",
            "\u001b[1m4811/4811\u001b[0m \u001b[32m━━━━━━━━━━━━━━━━━━━━\u001b[0m\u001b[37m\u001b[0m \u001b[1m11s\u001b[0m 2ms/step - accuracy: 0.6952 - loss: 0.9356 - val_accuracy: 0.6927 - val_loss: 0.9497\n",
            "Epoch 14/50\n",
            "\u001b[1m4811/4811\u001b[0m \u001b[32m━━━━━━━━━━━━━━━━━━━━\u001b[0m\u001b[37m\u001b[0m \u001b[1m10s\u001b[0m 2ms/step - accuracy: 0.6919 - loss: 0.9436 - val_accuracy: 0.6921 - val_loss: 0.9514\n",
            "Epoch 15/50\n",
            "\u001b[1m4811/4811\u001b[0m \u001b[32m━━━━━━━━━━━━━━━━━━━━\u001b[0m\u001b[37m\u001b[0m \u001b[1m8s\u001b[0m 2ms/step - accuracy: 0.6962 - loss: 0.9343 - val_accuracy: 0.6917 - val_loss: 0.9548\n",
            "Epoch 16/50\n",
            "\u001b[1m4811/4811\u001b[0m \u001b[32m━━━━━━━━━━━━━━━━━━━━\u001b[0m\u001b[37m\u001b[0m \u001b[1m10s\u001b[0m 2ms/step - accuracy: 0.6945 - loss: 0.9384 - val_accuracy: 0.6927 - val_loss: 0.9510\n",
            "Epoch 17/50\n",
            "\u001b[1m4811/4811\u001b[0m \u001b[32m━━━━━━━━━━━━━━━━━━━━\u001b[0m\u001b[37m\u001b[0m \u001b[1m10s\u001b[0m 2ms/step - accuracy: 0.6980 - loss: 0.9315 - val_accuracy: 0.6928 - val_loss: 0.9501\n",
            "Epoch 18/50\n",
            "\u001b[1m4811/4811\u001b[0m \u001b[32m━━━━━━━━━━━━━━━━━━━━\u001b[0m\u001b[37m\u001b[0m \u001b[1m15s\u001b[0m 3ms/step - accuracy: 0.6971 - loss: 0.9319 - val_accuracy: 0.6924 - val_loss: 0.9507\n",
            "Epoch 19/50\n",
            "\u001b[1m4811/4811\u001b[0m \u001b[32m━━━━━━━━━━━━━━━━━━━━\u001b[0m\u001b[37m\u001b[0m \u001b[1m16s\u001b[0m 3ms/step - accuracy: 0.6919 - loss: 0.9415 - val_accuracy: 0.6934 - val_loss: 0.9505\n",
            "Epoch 20/50\n",
            "\u001b[1m4811/4811\u001b[0m \u001b[32m━━━━━━━━━━━━━━━━━━━━\u001b[0m\u001b[37m\u001b[0m \u001b[1m14s\u001b[0m 2ms/step - accuracy: 0.6921 - loss: 0.9370 - val_accuracy: 0.6925 - val_loss: 0.9516\n",
            "Epoch 21/50\n",
            "\u001b[1m4811/4811\u001b[0m \u001b[32m━━━━━━━━━━━━━━━━━━━━\u001b[0m\u001b[37m\u001b[0m \u001b[1m11s\u001b[0m 2ms/step - accuracy: 0.6970 - loss: 0.9318 - val_accuracy: 0.6926 - val_loss: 0.9524\n",
            "Epoch 22/50\n",
            "\u001b[1m4811/4811\u001b[0m \u001b[32m━━━━━━━━━━━━━━━━━━━━\u001b[0m\u001b[37m\u001b[0m \u001b[1m20s\u001b[0m 2ms/step - accuracy: 0.6930 - loss: 0.9402 - val_accuracy: 0.6924 - val_loss: 0.9509\n",
            "Epoch 23/50\n",
            "\u001b[1m4811/4811\u001b[0m \u001b[32m━━━━━━━━━━━━━━━━━━━━\u001b[0m\u001b[37m\u001b[0m \u001b[1m11s\u001b[0m 2ms/step - accuracy: 0.6937 - loss: 0.9366 - val_accuracy: 0.6924 - val_loss: 0.9512\n",
            "Epoch 24/50\n",
            "\u001b[1m4811/4811\u001b[0m \u001b[32m━━━━━━━━━━━━━━━━━━━━\u001b[0m\u001b[37m\u001b[0m \u001b[1m10s\u001b[0m 2ms/step - accuracy: 0.6942 - loss: 0.9350 - val_accuracy: 0.6929 - val_loss: 0.9528\n",
            "Epoch 25/50\n",
            "\u001b[1m4811/4811\u001b[0m \u001b[32m━━━━━━━━━━━━━━━━━━━━\u001b[0m\u001b[37m\u001b[0m \u001b[1m9s\u001b[0m 2ms/step - accuracy: 0.6949 - loss: 0.9379 - val_accuracy: 0.6927 - val_loss: 0.9531\n",
            "Epoch 26/50\n",
            "\u001b[1m4811/4811\u001b[0m \u001b[32m━━━━━━━━━━━━━━━━━━━━\u001b[0m\u001b[37m\u001b[0m \u001b[1m11s\u001b[0m 2ms/step - accuracy: 0.6940 - loss: 0.9348 - val_accuracy: 0.6927 - val_loss: 0.9550\n",
            "Epoch 27/50\n",
            "\u001b[1m4811/4811\u001b[0m \u001b[32m━━━━━━━━━━━━━━━━━━━━\u001b[0m\u001b[37m\u001b[0m \u001b[1m11s\u001b[0m 2ms/step - accuracy: 0.6947 - loss: 0.9321 - val_accuracy: 0.6921 - val_loss: 0.9522\n",
            "Epoch 28/50\n",
            "\u001b[1m4811/4811\u001b[0m \u001b[32m━━━━━━━━━━━━━━━━━━━━\u001b[0m\u001b[37m\u001b[0m \u001b[1m10s\u001b[0m 2ms/step - accuracy: 0.6980 - loss: 0.9334 - val_accuracy: 0.6924 - val_loss: 0.9533\n",
            "Epoch 29/50\n",
            "\u001b[1m4811/4811\u001b[0m \u001b[32m━━━━━━━━━━━━━━━━━━━━\u001b[0m\u001b[37m\u001b[0m \u001b[1m9s\u001b[0m 2ms/step - accuracy: 0.6985 - loss: 0.9256 - val_accuracy: 0.6929 - val_loss: 0.9525\n",
            "Epoch 30/50\n",
            "\u001b[1m4811/4811\u001b[0m \u001b[32m━━━━━━━━━━━━━━━━━━━━\u001b[0m\u001b[37m\u001b[0m \u001b[1m10s\u001b[0m 2ms/step - accuracy: 0.6929 - loss: 0.9381 - val_accuracy: 0.6923 - val_loss: 0.9533\n",
            "Epoch 31/50\n",
            "\u001b[1m4811/4811\u001b[0m \u001b[32m━━━━━━━━━━━━━━━━━━━━\u001b[0m\u001b[37m\u001b[0m \u001b[1m20s\u001b[0m 2ms/step - accuracy: 0.6947 - loss: 0.9361 - val_accuracy: 0.6914 - val_loss: 0.9542\n",
            "Epoch 32/50\n",
            "\u001b[1m4811/4811\u001b[0m \u001b[32m━━━━━━━━━━━━━━━━━━━━\u001b[0m\u001b[37m\u001b[0m \u001b[1m9s\u001b[0m 2ms/step - accuracy: 0.6976 - loss: 0.9299 - val_accuracy: 0.6928 - val_loss: 0.9560\n",
            "Epoch 33/50\n",
            "\u001b[1m4811/4811\u001b[0m \u001b[32m━━━━━━━━━━━━━━━━━━━━\u001b[0m\u001b[37m\u001b[0m \u001b[1m10s\u001b[0m 2ms/step - accuracy: 0.6965 - loss: 0.9291 - val_accuracy: 0.6928 - val_loss: 0.9521\n",
            "Epoch 34/50\n",
            "\u001b[1m4811/4811\u001b[0m \u001b[32m━━━━━━━━━━━━━━━━━━━━\u001b[0m\u001b[37m\u001b[0m \u001b[1m10s\u001b[0m 2ms/step - accuracy: 0.6981 - loss: 0.9253 - val_accuracy: 0.6914 - val_loss: 0.9537\n",
            "Epoch 35/50\n",
            "\u001b[1m4811/4811\u001b[0m \u001b[32m━━━━━━━━━━━━━━━━━━━━\u001b[0m\u001b[37m\u001b[0m \u001b[1m9s\u001b[0m 2ms/step - accuracy: 0.6941 - loss: 0.9347 - val_accuracy: 0.6929 - val_loss: 0.9529\n",
            "Epoch 36/50\n",
            "\u001b[1m4811/4811\u001b[0m \u001b[32m━━━━━━━━━━━━━━━━━━━━\u001b[0m\u001b[37m\u001b[0m \u001b[1m10s\u001b[0m 2ms/step - accuracy: 0.6942 - loss: 0.9348 - val_accuracy: 0.6925 - val_loss: 0.9547\n",
            "Epoch 37/50\n",
            "\u001b[1m4811/4811\u001b[0m \u001b[32m━━━━━━━━━━━━━━━━━━━━\u001b[0m\u001b[37m\u001b[0m \u001b[1m13s\u001b[0m 3ms/step - accuracy: 0.6913 - loss: 0.9381 - val_accuracy: 0.6927 - val_loss: 0.9531\n",
            "Epoch 38/50\n",
            "\u001b[1m4811/4811\u001b[0m \u001b[32m━━━━━━━━━━━━━━━━━━━━\u001b[0m\u001b[37m\u001b[0m \u001b[1m18s\u001b[0m 2ms/step - accuracy: 0.6950 - loss: 0.9369 - val_accuracy: 0.6910 - val_loss: 0.9534\n",
            "Epoch 39/50\n",
            "\u001b[1m4811/4811\u001b[0m \u001b[32m━━━━━━━━━━━━━━━━━━━━\u001b[0m\u001b[37m\u001b[0m \u001b[1m11s\u001b[0m 2ms/step - accuracy: 0.6971 - loss: 0.9297 - val_accuracy: 0.6925 - val_loss: 0.9546\n",
            "Epoch 40/50\n",
            "\u001b[1m4811/4811\u001b[0m \u001b[32m━━━━━━━━━━━━━━━━━━━━\u001b[0m\u001b[37m\u001b[0m \u001b[1m10s\u001b[0m 2ms/step - accuracy: 0.6937 - loss: 0.9387 - val_accuracy: 0.6920 - val_loss: 0.9556\n",
            "Epoch 41/50\n",
            "\u001b[1m4811/4811\u001b[0m \u001b[32m━━━━━━━━━━━━━━━━━━━━\u001b[0m\u001b[37m\u001b[0m \u001b[1m9s\u001b[0m 2ms/step - accuracy: 0.6963 - loss: 0.9341 - val_accuracy: 0.6929 - val_loss: 0.9529\n",
            "Epoch 42/50\n",
            "\u001b[1m4811/4811\u001b[0m \u001b[32m━━━━━━━━━━━━━━━━━━━━\u001b[0m\u001b[37m\u001b[0m \u001b[1m11s\u001b[0m 2ms/step - accuracy: 0.6956 - loss: 0.9329 - val_accuracy: 0.6925 - val_loss: 0.9548\n",
            "Epoch 43/50\n",
            "\u001b[1m4811/4811\u001b[0m \u001b[32m━━━━━━━━━━━━━━━━━━━━\u001b[0m\u001b[37m\u001b[0m \u001b[1m11s\u001b[0m 2ms/step - accuracy: 0.6966 - loss: 0.9285 - val_accuracy: 0.6915 - val_loss: 0.9562\n",
            "Epoch 44/50\n",
            "\u001b[1m4811/4811\u001b[0m \u001b[32m━━━━━━━━━━━━━━━━━━━━\u001b[0m\u001b[37m\u001b[0m \u001b[1m9s\u001b[0m 2ms/step - accuracy: 0.6954 - loss: 0.9291 - val_accuracy: 0.6919 - val_loss: 0.9543\n",
            "Epoch 45/50\n",
            "\u001b[1m4811/4811\u001b[0m \u001b[32m━━━━━━━━━━━━━━━━━━━━\u001b[0m\u001b[37m\u001b[0m \u001b[1m9s\u001b[0m 2ms/step - accuracy: 0.6943 - loss: 0.9335 - val_accuracy: 0.6927 - val_loss: 0.9571\n",
            "Epoch 46/50\n",
            "\u001b[1m4811/4811\u001b[0m \u001b[32m━━━━━━━━━━━━━━━━━━━━\u001b[0m\u001b[37m\u001b[0m \u001b[1m11s\u001b[0m 2ms/step - accuracy: 0.6963 - loss: 0.9328 - val_accuracy: 0.6921 - val_loss: 0.9565\n",
            "Epoch 47/50\n",
            "\u001b[1m4811/4811\u001b[0m \u001b[32m━━━━━━━━━━━━━━━━━━━━\u001b[0m\u001b[37m\u001b[0m \u001b[1m20s\u001b[0m 2ms/step - accuracy: 0.6922 - loss: 0.9360 - val_accuracy: 0.6913 - val_loss: 0.9609\n",
            "Epoch 48/50\n",
            "\u001b[1m4811/4811\u001b[0m \u001b[32m━━━━━━━━━━━━━━━━━━━━\u001b[0m\u001b[37m\u001b[0m \u001b[1m9s\u001b[0m 2ms/step - accuracy: 0.6943 - loss: 0.9332 - val_accuracy: 0.6924 - val_loss: 0.9572\n",
            "Epoch 49/50\n",
            "\u001b[1m4811/4811\u001b[0m \u001b[32m━━━━━━━━━━━━━━━━━━━━\u001b[0m\u001b[37m\u001b[0m \u001b[1m10s\u001b[0m 2ms/step - accuracy: 0.6947 - loss: 0.9316 - val_accuracy: 0.6925 - val_loss: 0.9567\n",
            "Epoch 50/50\n",
            "\u001b[1m4811/4811\u001b[0m \u001b[32m━━━━━━━━━━━━━━━━━━━━\u001b[0m\u001b[37m\u001b[0m \u001b[1m10s\u001b[0m 2ms/step - accuracy: 0.6956 - loss: 0.9310 - val_accuracy: 0.6924 - val_loss: 0.9557\n",
            "\u001b[1m806/806\u001b[0m \u001b[32m━━━━━━━━━━━━━━━━━━━━\u001b[0m\u001b[37m\u001b[0m \u001b[1m1s\u001b[0m 1ms/step\n",
            "Accuracy: 0.69\n",
            "Classification Report:\n",
            "              precision    recall  f1-score   support\n",
            "\n",
            "           1       0.42      0.01      0.03      3321\n",
            "           2       0.00      0.00      0.00       350\n",
            "           3       0.00      0.00      0.00       790\n",
            "           4       0.15      0.00      0.00      3409\n",
            "           5       0.70      1.00      0.82     17903\n",
            "\n",
            "    accuracy                           0.69     25773\n",
            "   macro avg       0.25      0.20      0.17     25773\n",
            "weighted avg       0.56      0.69      0.57     25773\n",
            "\n"
          ]
        }
      ]
    },
    {
      "cell_type": "markdown",
      "source": [
        "#### 1. Explain the ML Model used and it's performance using Evaluation metric Score Chart."
      ],
      "metadata": {
        "id": "7AN1z2sKpx6M"
      }
    },
    {
      "cell_type": "code",
      "source": [
        "from sklearn.metrics import accuracy_score, precision_score, recall_score, f1_score, classification_report\n",
        "# Convert predicted probabilities to classes\n",
        "y_pred_classes = y_pred.argmax(axis=1)\n",
        "y_test_classes = y_test.argmax(axis=1)\n",
        "\n",
        "# Compute accuracy\n",
        "accuracy = accuracy_score(y_test_classes, y_pred_classes)\n",
        "\n",
        "# Compute precision\n",
        "precision = precision_score(y_test_classes, y_pred_classes, average='weighted')\n",
        "\n",
        "# Compute recall\n",
        "recall = recall_score(y_test_classes, y_pred_classes, average='weighted')\n",
        "\n",
        "# Compute F1-score\n",
        "f1 = f1_score(y_test_classes, y_pred_classes, average='weighted')\n",
        "\n",
        "# Generate classification report\n",
        "report = classification_report(y_test_classes, y_pred_classes)\n",
        "\n",
        "# Print evaluation metrics\n",
        "print(f\"Accuracy: {accuracy:.2f}\")\n",
        "print(f\"Precision: {precision:.2f}\")\n",
        "print(f\"Recall: {recall:.2f}\")\n",
        "print(f\"F1-score: {f1:.2f}\")\n",
        "print(\"Classification Report:\")\n",
        "print(report)\n"
      ],
      "metadata": {
        "id": "xIY4lxxGpx6M",
        "colab": {
          "base_uri": "https://localhost:8080/"
        },
        "outputId": "ebf92525-dddd-44dc-9288-cf0a7c2e302b"
      },
      "execution_count": null,
      "outputs": [
        {
          "output_type": "stream",
          "name": "stdout",
          "text": [
            "Accuracy: 0.69\n",
            "Precision: 0.56\n",
            "Recall: 0.69\n",
            "F1-score: 0.57\n",
            "Classification Report:\n",
            "              precision    recall  f1-score   support\n",
            "\n",
            "           1       0.42      0.01      0.03      3321\n",
            "           2       0.00      0.00      0.00       350\n",
            "           3       0.00      0.00      0.00       790\n",
            "           4       0.15      0.00      0.00      3409\n",
            "           5       0.70      1.00      0.82     17903\n",
            "\n",
            "    accuracy                           0.69     25773\n",
            "   macro avg       0.25      0.20      0.17     25773\n",
            "weighted avg       0.56      0.69      0.57     25773\n",
            "\n"
          ]
        }
      ]
    },
    {
      "cell_type": "markdown",
      "source": [
        "### 1. Which Evaluation metrics did you consider for a positive business impact and why?"
      ],
      "metadata": {
        "id": "h_CCil-SKHpo"
      }
    },
    {
      "cell_type": "markdown",
      "source": [
        "Accuracy is considered for positive business impact as it is on higher side we can predict CSAT Score using this value."
      ],
      "metadata": {
        "id": "jHVz9hHDKFms"
      }
    },
    {
      "cell_type": "markdown",
      "source": [
        "### 2. Which ML model did you choose from the above created models as your final prediction model and why?"
      ],
      "metadata": {
        "id": "cBFFvTBNJzUa"
      }
    },
    {
      "cell_type": "markdown",
      "source": [
        "Deep learning ML model is finalised because of its slightly better performance on data training and testing."
      ],
      "metadata": {
        "id": "6ksF5Q1LKTVm"
      }
    },
    {
      "cell_type": "markdown",
      "source": [
        "### 3. Explain the model which you have used and the feature importance using any model explainability tool?"
      ],
      "metadata": {
        "id": "HvGl1hHyA_VK"
      }
    },
    {
      "cell_type": "markdown",
      "source": [
        "Answer Here."
      ],
      "metadata": {
        "id": "YnvVTiIxBL-C"
      }
    },
    {
      "cell_type": "markdown",
      "source": [
        "# **Conclusion**"
      ],
      "metadata": {
        "id": "gCX9965dhzqZ"
      }
    },
    {
      "cell_type": "markdown",
      "source": [
        "The Deep learning model performs well in predicting class 5 (CSAT Score 5) due to its high precision, recall, and F1-score.\n",
        "\n",
        "However, the model's performance is poor for classes 1, 2, 3, and 4, as indicated by low precision, recall, and F1-score values for these classes.\n",
        "\n",
        "Overall, the model may need further optimization, such as data balancing techniques, feature engineering, or hyperparameter tuning, to improve its performance, especially for minority classes. Additionally, it's essential to consider the business context and consequences of misclassification for each class when interpreting the results and deciding on further actions.\n",
        "\n",
        "**Recommondations:**\n",
        "\n",
        "1) How quickly issue is resolved affetcs significantly to customer satisfaction score hence focus should be given on resolving customer problems as soon as possible.\n",
        "\n",
        "2) Well trained and experienced agents can handle customers better hence focus should be on training and hiring experiened agents which can improve CSAT Score.\n"
      ],
      "metadata": {
        "id": "Fjb1IsQkh3yE"
      }
    },
    {
      "cell_type": "markdown",
      "source": [
        "### ***Hurrah! You have successfully completed your Machine Learning Capstone Project !!!***"
      ],
      "metadata": {
        "id": "gIfDvo9L0UH2"
      }
    }
  ]
}